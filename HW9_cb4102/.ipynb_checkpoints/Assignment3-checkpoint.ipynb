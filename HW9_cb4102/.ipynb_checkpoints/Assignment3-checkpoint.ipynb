{
 "cells": [
  {
   "cell_type": "code",
   "execution_count": 63,
   "metadata": {},
   "outputs": [
    {
     "name": "stdout",
     "output_type": "stream",
     "text": [
      "Populating the interactive namespace from numpy and matplotlib\n"
     ]
    }
   ],
   "source": [
    "import pandas as pd\n",
    "import urllib\n",
    "import os\n",
    "import matplotlib.pyplot as plt\n",
    "import seaborn as sns \n",
    "import statsmodels.api as sm\n",
    "import statsmodels.formula.api as smf\n",
    "\n",
    "%pylab inline"
   ]
  },
  {
   "cell_type": "markdown",
   "metadata": {},
   "source": [
    "# DATA"
   ]
  },
  {
   "cell_type": "code",
   "execution_count": 2,
   "metadata": {},
   "outputs": [
    {
     "data": {
      "text/html": [
       "<div>\n",
       "<table border=\"1\" class=\"dataframe\">\n",
       "  <thead>\n",
       "    <tr style=\"text-align: right;\">\n",
       "      <th></th>\n",
       "      <th>Country/Territory</th>\n",
       "      <th>ISO code</th>\n",
       "      <th>Source</th>\n",
       "      <th>% of homicides by firearm</th>\n",
       "      <th>Number of homicides by firearm</th>\n",
       "      <th>Homicide by firearm rate per 100,000 pop</th>\n",
       "      <th>Rank by rate of ownership</th>\n",
       "      <th>Average firearms per 100 people</th>\n",
       "      <th>Average total all civilian firearms</th>\n",
       "    </tr>\n",
       "  </thead>\n",
       "  <tbody>\n",
       "    <tr>\n",
       "      <th>0</th>\n",
       "      <td>Albania</td>\n",
       "      <td>AL</td>\n",
       "      <td>CTS</td>\n",
       "      <td>65.9</td>\n",
       "      <td>56.0</td>\n",
       "      <td>1.76</td>\n",
       "      <td>70.0</td>\n",
       "      <td>8.6</td>\n",
       "      <td>270000.0</td>\n",
       "    </tr>\n",
       "    <tr>\n",
       "      <th>1</th>\n",
       "      <td>Algeria</td>\n",
       "      <td>DZ</td>\n",
       "      <td>CTS</td>\n",
       "      <td>4.8</td>\n",
       "      <td>20.0</td>\n",
       "      <td>0.06</td>\n",
       "      <td>78.0</td>\n",
       "      <td>7.6</td>\n",
       "      <td>1900000.0</td>\n",
       "    </tr>\n",
       "    <tr>\n",
       "      <th>2</th>\n",
       "      <td>Angola</td>\n",
       "      <td>AO</td>\n",
       "      <td>NaN</td>\n",
       "      <td>NaN</td>\n",
       "      <td>NaN</td>\n",
       "      <td>NaN</td>\n",
       "      <td>34.0</td>\n",
       "      <td>17.3</td>\n",
       "      <td>2800000.0</td>\n",
       "    </tr>\n",
       "    <tr>\n",
       "      <th>3</th>\n",
       "      <td>Anguilla</td>\n",
       "      <td>AI</td>\n",
       "      <td>WHO-MDB</td>\n",
       "      <td>24.0</td>\n",
       "      <td>1.0</td>\n",
       "      <td>7.14</td>\n",
       "      <td>NaN</td>\n",
       "      <td>NaN</td>\n",
       "      <td>NaN</td>\n",
       "    </tr>\n",
       "    <tr>\n",
       "      <th>4</th>\n",
       "      <td>Argentina</td>\n",
       "      <td>AR</td>\n",
       "      <td>Ministry of Justice</td>\n",
       "      <td>52.0</td>\n",
       "      <td>1198.0</td>\n",
       "      <td>3.02</td>\n",
       "      <td>62.0</td>\n",
       "      <td>10.2</td>\n",
       "      <td>3950000.0</td>\n",
       "    </tr>\n",
       "  </tbody>\n",
       "</table>\n",
       "</div>"
      ],
      "text/plain": [
       "  Country/Territory ISO code               Source  % of homicides by firearm  \\\n",
       "0           Albania       AL                  CTS                       65.9   \n",
       "1           Algeria       DZ                  CTS                        4.8   \n",
       "2            Angola       AO                  NaN                        NaN   \n",
       "3          Anguilla       AI              WHO-MDB                       24.0   \n",
       "4         Argentina       AR  Ministry of Justice                       52.0   \n",
       "\n",
       "   Number of homicides by firearm  Homicide by firearm rate per 100,000 pop  \\\n",
       "0                            56.0                                      1.76   \n",
       "1                            20.0                                      0.06   \n",
       "2                             NaN                                       NaN   \n",
       "3                             1.0                                      7.14   \n",
       "4                          1198.0                                      3.02   \n",
       "\n",
       "   Rank by rate of ownership  Average firearms per 100 people  \\\n",
       "0                       70.0                              8.6   \n",
       "1                       78.0                              7.6   \n",
       "2                       34.0                             17.3   \n",
       "3                        NaN                              NaN   \n",
       "4                       62.0                             10.2   \n",
       "\n",
       "   Average total all civilian firearms  \n",
       "0                             270000.0  \n",
       "1                            1900000.0  \n",
       "2                            2800000.0  \n",
       "3                                  NaN  \n",
       "4                            3950000.0  "
      ]
     },
     "execution_count": 2,
     "metadata": {},
     "output_type": "execute_result"
    }
   ],
   "source": [
    "#import firearm data from github\n",
    "url = 'https://raw.githubusercontent.com/fedhere/PUI2018_fb55/master/HW9_fb55/World%20firearms%20murders%20and%20ownership%20-%20Sheet%201.csv'\n",
    "firearm = pd.read_csv(url)\n",
    "firearm.head()"
   ]
  },
  {
   "cell_type": "code",
   "execution_count": 3,
   "metadata": {},
   "outputs": [
    {
     "data": {
      "text/plain": [
       "('guns_owned_mass.csv', <email.message.Message at 0x7f3a89110fd0>)"
      ]
     },
     "execution_count": 3,
     "metadata": {},
     "output_type": "execute_result"
    }
   ],
   "source": [
    "#retrieve the guns owned vs. mass shooting csv\n",
    "urllib.request.urlretrieve(\"data:application/octet-stream;charset=utf-8,Country%2CGuns%20per%20100%20inhabitants%2CNumber%20of%20mass%20shootings%20(1983-2013)%0AAustralia%2C15%2C4%0AAustria%2C30.4%2C1%0ABelgium%2C17.2%2C2%0ACanada%2C30.8%2C4%0ADenmark%2C12%2C0%0AFinland%2C45.3%2C2%0AFrance%2C31.2%2C6%0AGermany%2C30.3%2C7%0AGreece%2C22.5%2C0%0AHolland%2C3.9%2C2%0AHungary%2C5.5%2C0%0AIceland%2C30.3%2C0%0AIreland%2C8.6%2C0%0AItaly%2C11.9%2C0%0AJapan%2C0.6%2C0%0ALuxembourg%2C15.3%2C0%0ANew%20Zealand%2C22.6%2C3%0ANorway%2C31.3%2C1%0APoland%2C1.3%2C0%0APortugal%2C8.5%2C1%0ASpain%2C10.4%2C1%0ASweden%2C31.6%2C2%0ASwitzerland%2C45.7%2C2%0AUnited%20Kingdom%2C6.2%2C3%0AUnited%20States%2C88.8%2C78\",filename=\"guns_owned_mass.csv\")"
   ]
  },
  {
   "cell_type": "code",
   "execution_count": 4,
   "metadata": {},
   "outputs": [],
   "source": [
    "!mv guns_owned_mass.csv $PUIDATA"
   ]
  },
  {
   "cell_type": "code",
   "execution_count": 5,
   "metadata": {},
   "outputs": [
    {
     "data": {
      "text/html": [
       "<div>\n",
       "<table border=\"1\" class=\"dataframe\">\n",
       "  <thead>\n",
       "    <tr style=\"text-align: right;\">\n",
       "      <th></th>\n",
       "      <th>Country</th>\n",
       "      <th>Guns per 100 inhabitants</th>\n",
       "      <th>Number of mass shootings (1983-2013)</th>\n",
       "    </tr>\n",
       "  </thead>\n",
       "  <tbody>\n",
       "    <tr>\n",
       "      <th>0</th>\n",
       "      <td>Australia</td>\n",
       "      <td>15.0</td>\n",
       "      <td>4</td>\n",
       "    </tr>\n",
       "    <tr>\n",
       "      <th>1</th>\n",
       "      <td>Austria</td>\n",
       "      <td>30.4</td>\n",
       "      <td>1</td>\n",
       "    </tr>\n",
       "    <tr>\n",
       "      <th>2</th>\n",
       "      <td>Belgium</td>\n",
       "      <td>17.2</td>\n",
       "      <td>2</td>\n",
       "    </tr>\n",
       "    <tr>\n",
       "      <th>3</th>\n",
       "      <td>Canada</td>\n",
       "      <td>30.8</td>\n",
       "      <td>4</td>\n",
       "    </tr>\n",
       "    <tr>\n",
       "      <th>4</th>\n",
       "      <td>Denmark</td>\n",
       "      <td>12.0</td>\n",
       "      <td>0</td>\n",
       "    </tr>\n",
       "  </tbody>\n",
       "</table>\n",
       "</div>"
      ],
      "text/plain": [
       "     Country  Guns per 100 inhabitants  Number of mass shootings (1983-2013)\n",
       "0  Australia                      15.0                                     4\n",
       "1    Austria                      30.4                                     1\n",
       "2    Belgium                      17.2                                     2\n",
       "3     Canada                      30.8                                     4\n",
       "4    Denmark                      12.0                                     0"
      ]
     },
     "execution_count": 5,
     "metadata": {},
     "output_type": "execute_result"
    }
   ],
   "source": [
    "#import guns owned\n",
    "guns_owned = pd.read_csv(os.getenv(\"PUIDATA\")+\"/\"+'guns_owned_mass.csv')\n",
    "guns_owned.head()"
   ]
  },
  {
   "cell_type": "code",
   "execution_count": 6,
   "metadata": {
    "scrolled": true
   },
   "outputs": [
    {
     "data": {
      "text/html": [
       "<div>\n",
       "<table border=\"1\" class=\"dataframe\">\n",
       "  <thead>\n",
       "    <tr style=\"text-align: right;\">\n",
       "      <th></th>\n",
       "      <th>Country Name</th>\n",
       "      <th>2012</th>\n",
       "    </tr>\n",
       "  </thead>\n",
       "  <tbody>\n",
       "    <tr>\n",
       "      <th>0</th>\n",
       "      <td>Aruba</td>\n",
       "      <td>102577.0</td>\n",
       "    </tr>\n",
       "    <tr>\n",
       "      <th>1</th>\n",
       "      <td>Afghanistan</td>\n",
       "      <td>30696958.0</td>\n",
       "    </tr>\n",
       "    <tr>\n",
       "      <th>2</th>\n",
       "      <td>Angola</td>\n",
       "      <td>25096150.0</td>\n",
       "    </tr>\n",
       "    <tr>\n",
       "      <th>3</th>\n",
       "      <td>Albania</td>\n",
       "      <td>2900401.0</td>\n",
       "    </tr>\n",
       "    <tr>\n",
       "      <th>4</th>\n",
       "      <td>Andorra</td>\n",
       "      <td>82431.0</td>\n",
       "    </tr>\n",
       "  </tbody>\n",
       "</table>\n",
       "</div>"
      ],
      "text/plain": [
       "  Country Name        2012\n",
       "0        Aruba    102577.0\n",
       "1  Afghanistan  30696958.0\n",
       "2       Angola  25096150.0\n",
       "3      Albania   2900401.0\n",
       "4      Andorra     82431.0"
      ]
     },
     "execution_count": 6,
     "metadata": {},
     "output_type": "execute_result"
    }
   ],
   "source": [
    "url2 = 'http://api.worldbank.org/v2/en/indicator/SP.POP.TOTL?downloadformat=excel'\n",
    "pop = pd.read_excel(url2,skiprows=3)\n",
    "pop = pop[['Country Name','2012']]\n",
    "pop.head()"
   ]
  },
  {
   "cell_type": "code",
   "execution_count": 7,
   "metadata": {},
   "outputs": [
    {
     "data": {
      "text/html": [
       "<div>\n",
       "<table border=\"1\" class=\"dataframe\">\n",
       "  <thead>\n",
       "    <tr style=\"text-align: right;\">\n",
       "      <th></th>\n",
       "      <th>Country Name</th>\n",
       "      <th>2012</th>\n",
       "    </tr>\n",
       "  </thead>\n",
       "  <tbody>\n",
       "    <tr>\n",
       "      <th>0</th>\n",
       "      <td>Aruba</td>\n",
       "      <td>NaN</td>\n",
       "    </tr>\n",
       "    <tr>\n",
       "      <th>1</th>\n",
       "      <td>Afghanistan</td>\n",
       "      <td>2.053654e+10</td>\n",
       "    </tr>\n",
       "    <tr>\n",
       "      <th>2</th>\n",
       "      <td>Angola</td>\n",
       "      <td>1.139232e+11</td>\n",
       "    </tr>\n",
       "    <tr>\n",
       "      <th>3</th>\n",
       "      <td>Albania</td>\n",
       "      <td>1.231978e+10</td>\n",
       "    </tr>\n",
       "    <tr>\n",
       "      <th>4</th>\n",
       "      <td>Andorra</td>\n",
       "      <td>3.164615e+09</td>\n",
       "    </tr>\n",
       "  </tbody>\n",
       "</table>\n",
       "</div>"
      ],
      "text/plain": [
       "  Country Name          2012\n",
       "0        Aruba           NaN\n",
       "1  Afghanistan  2.053654e+10\n",
       "2       Angola  1.139232e+11\n",
       "3      Albania  1.231978e+10\n",
       "4      Andorra  3.164615e+09"
      ]
     },
     "execution_count": 7,
     "metadata": {},
     "output_type": "execute_result"
    }
   ],
   "source": [
    "url3 = 'http://api.worldbank.org/v2/en/indicator/NY.GDP.MKTP.CD?downloadformat=excel'\n",
    "gdp = pd.read_excel(url3,skiprows=3)\n",
    "gdp = gdp[['Country Name','2012']]\n",
    "gdp.head()"
   ]
  },
  {
   "cell_type": "code",
   "execution_count": 8,
   "metadata": {},
   "outputs": [
    {
     "data": {
      "text/html": [
       "<div>\n",
       "<table border=\"1\" class=\"dataframe\">\n",
       "  <thead>\n",
       "    <tr style=\"text-align: right;\">\n",
       "      <th></th>\n",
       "      <th>Country</th>\n",
       "      <th>Average total all civilian firearms</th>\n",
       "      <th>Number of mass shootings (1983-2013)</th>\n",
       "      <th>Guns per 100 inhabitants</th>\n",
       "      <th>Average firearms per 100 people</th>\n",
       "      <th>Number of homicides by firearm</th>\n",
       "    </tr>\n",
       "  </thead>\n",
       "  <tbody>\n",
       "    <tr>\n",
       "      <th>0</th>\n",
       "      <td>Australia</td>\n",
       "      <td>3050000.0</td>\n",
       "      <td>4</td>\n",
       "      <td>15.0</td>\n",
       "      <td>15.0</td>\n",
       "      <td>30.0</td>\n",
       "    </tr>\n",
       "    <tr>\n",
       "      <th>1</th>\n",
       "      <td>Austria</td>\n",
       "      <td>2500000.0</td>\n",
       "      <td>1</td>\n",
       "      <td>30.4</td>\n",
       "      <td>30.4</td>\n",
       "      <td>18.0</td>\n",
       "    </tr>\n",
       "    <tr>\n",
       "      <th>2</th>\n",
       "      <td>Belgium</td>\n",
       "      <td>1800000.0</td>\n",
       "      <td>2</td>\n",
       "      <td>17.2</td>\n",
       "      <td>17.2</td>\n",
       "      <td>70.0</td>\n",
       "    </tr>\n",
       "    <tr>\n",
       "      <th>3</th>\n",
       "      <td>Canada</td>\n",
       "      <td>9950000.0</td>\n",
       "      <td>4</td>\n",
       "      <td>30.8</td>\n",
       "      <td>30.8</td>\n",
       "      <td>173.0</td>\n",
       "    </tr>\n",
       "    <tr>\n",
       "      <th>4</th>\n",
       "      <td>Denmark</td>\n",
       "      <td>650000.0</td>\n",
       "      <td>0</td>\n",
       "      <td>12.0</td>\n",
       "      <td>12.0</td>\n",
       "      <td>15.0</td>\n",
       "    </tr>\n",
       "  </tbody>\n",
       "</table>\n",
       "</div>"
      ],
      "text/plain": [
       "     Country  Average total all civilian firearms  \\\n",
       "0  Australia                            3050000.0   \n",
       "1    Austria                            2500000.0   \n",
       "2    Belgium                            1800000.0   \n",
       "3     Canada                            9950000.0   \n",
       "4    Denmark                             650000.0   \n",
       "\n",
       "   Number of mass shootings (1983-2013)  Guns per 100 inhabitants  \\\n",
       "0                                     4                      15.0   \n",
       "1                                     1                      30.4   \n",
       "2                                     2                      17.2   \n",
       "3                                     4                      30.8   \n",
       "4                                     0                      12.0   \n",
       "\n",
       "   Average firearms per 100 people  Number of homicides by firearm  \n",
       "0                             15.0                            30.0  \n",
       "1                             30.4                            18.0  \n",
       "2                             17.2                            70.0  \n",
       "3                             30.8                           173.0  \n",
       "4                             12.0                            15.0  "
      ]
     },
     "execution_count": 8,
     "metadata": {},
     "output_type": "execute_result"
    }
   ],
   "source": [
    "firearm_gun = pd.merge(left=firearm,right=guns_owned,left_on='Country/Territory',right_on='Country')\n",
    "firearm_gun = firearm_gun[['Country','Average total all civilian firearms','Number of mass shootings (1983-2013)','Guns per 100 inhabitants','Average firearms per 100 people','Number of homicides by firearm']]\n",
    "firearm_gun.head()"
   ]
  },
  {
   "cell_type": "code",
   "execution_count": 9,
   "metadata": {},
   "outputs": [
    {
     "data": {
      "text/html": [
       "<div>\n",
       "<table border=\"1\" class=\"dataframe\">\n",
       "  <thead>\n",
       "    <tr style=\"text-align: right;\">\n",
       "      <th></th>\n",
       "      <th>Country Name</th>\n",
       "      <th>2012_x</th>\n",
       "      <th>2012_y</th>\n",
       "    </tr>\n",
       "  </thead>\n",
       "  <tbody>\n",
       "    <tr>\n",
       "      <th>0</th>\n",
       "      <td>Aruba</td>\n",
       "      <td>102577.0</td>\n",
       "      <td>NaN</td>\n",
       "    </tr>\n",
       "    <tr>\n",
       "      <th>1</th>\n",
       "      <td>Afghanistan</td>\n",
       "      <td>30696958.0</td>\n",
       "      <td>2.053654e+10</td>\n",
       "    </tr>\n",
       "    <tr>\n",
       "      <th>2</th>\n",
       "      <td>Angola</td>\n",
       "      <td>25096150.0</td>\n",
       "      <td>1.139232e+11</td>\n",
       "    </tr>\n",
       "    <tr>\n",
       "      <th>3</th>\n",
       "      <td>Albania</td>\n",
       "      <td>2900401.0</td>\n",
       "      <td>1.231978e+10</td>\n",
       "    </tr>\n",
       "    <tr>\n",
       "      <th>4</th>\n",
       "      <td>Andorra</td>\n",
       "      <td>82431.0</td>\n",
       "      <td>3.164615e+09</td>\n",
       "    </tr>\n",
       "  </tbody>\n",
       "</table>\n",
       "</div>"
      ],
      "text/plain": [
       "  Country Name      2012_x        2012_y\n",
       "0        Aruba    102577.0           NaN\n",
       "1  Afghanistan  30696958.0  2.053654e+10\n",
       "2       Angola  25096150.0  1.139232e+11\n",
       "3      Albania   2900401.0  1.231978e+10\n",
       "4      Andorra     82431.0  3.164615e+09"
      ]
     },
     "execution_count": 9,
     "metadata": {},
     "output_type": "execute_result"
    }
   ],
   "source": [
    "world_bank = pd.merge(left=pop,right=gdp,left_on='Country Name',right_on='Country Name')\n",
    "world_bank.head()"
   ]
  },
  {
   "cell_type": "code",
   "execution_count": 10,
   "metadata": {},
   "outputs": [],
   "source": [
    "shots = pd.merge(left=world_bank,right=firearm_gun,left_on='Country Name',right_on='Country')\n",
    "shots.rename(columns={'2012_x':'pop','2012_y':'gdp'}, inplace=True)\n",
    "shots = shots[['Country','pop','gdp','Average total all civilian firearms','Number of mass shootings (1983-2013)','Guns per 100 inhabitants','Average firearms per 100 people','Number of homicides by firearm']]"
   ]
  },
  {
   "cell_type": "code",
   "execution_count": 11,
   "metadata": {},
   "outputs": [
    {
     "data": {
      "text/html": [
       "<div>\n",
       "<table border=\"1\" class=\"dataframe\">\n",
       "  <thead>\n",
       "    <tr style=\"text-align: right;\">\n",
       "      <th></th>\n",
       "      <th>Country</th>\n",
       "      <th>pop</th>\n",
       "      <th>gdp</th>\n",
       "      <th>Average total all civilian firearms</th>\n",
       "      <th>Number of mass shootings (1983-2013)</th>\n",
       "      <th>Guns per 100 inhabitants</th>\n",
       "      <th>Average firearms per 100 people</th>\n",
       "      <th>Number of homicides by firearm</th>\n",
       "    </tr>\n",
       "  </thead>\n",
       "  <tbody>\n",
       "    <tr>\n",
       "      <th>0</th>\n",
       "      <td>Australia</td>\n",
       "      <td>22742475.0</td>\n",
       "      <td>1.543411e+12</td>\n",
       "      <td>3050000.0</td>\n",
       "      <td>4</td>\n",
       "      <td>15.0</td>\n",
       "      <td>15.0</td>\n",
       "      <td>30.0</td>\n",
       "    </tr>\n",
       "    <tr>\n",
       "      <th>1</th>\n",
       "      <td>Austria</td>\n",
       "      <td>8429991.0</td>\n",
       "      <td>4.094252e+11</td>\n",
       "      <td>2500000.0</td>\n",
       "      <td>1</td>\n",
       "      <td>30.4</td>\n",
       "      <td>30.4</td>\n",
       "      <td>18.0</td>\n",
       "    </tr>\n",
       "    <tr>\n",
       "      <th>2</th>\n",
       "      <td>Belgium</td>\n",
       "      <td>11128246.0</td>\n",
       "      <td>4.978842e+11</td>\n",
       "      <td>1800000.0</td>\n",
       "      <td>2</td>\n",
       "      <td>17.2</td>\n",
       "      <td>17.2</td>\n",
       "      <td>70.0</td>\n",
       "    </tr>\n",
       "    <tr>\n",
       "      <th>3</th>\n",
       "      <td>Canada</td>\n",
       "      <td>34750545.0</td>\n",
       "      <td>1.824289e+12</td>\n",
       "      <td>9950000.0</td>\n",
       "      <td>4</td>\n",
       "      <td>30.8</td>\n",
       "      <td>30.8</td>\n",
       "      <td>173.0</td>\n",
       "    </tr>\n",
       "    <tr>\n",
       "      <th>4</th>\n",
       "      <td>Switzerland</td>\n",
       "      <td>7996861.0</td>\n",
       "      <td>6.680436e+11</td>\n",
       "      <td>3400000.0</td>\n",
       "      <td>2</td>\n",
       "      <td>45.7</td>\n",
       "      <td>45.7</td>\n",
       "      <td>57.0</td>\n",
       "    </tr>\n",
       "  </tbody>\n",
       "</table>\n",
       "</div>"
      ],
      "text/plain": [
       "       Country         pop           gdp  Average total all civilian firearms  \\\n",
       "0    Australia  22742475.0  1.543411e+12                            3050000.0   \n",
       "1      Austria   8429991.0  4.094252e+11                            2500000.0   \n",
       "2      Belgium  11128246.0  4.978842e+11                            1800000.0   \n",
       "3       Canada  34750545.0  1.824289e+12                            9950000.0   \n",
       "4  Switzerland   7996861.0  6.680436e+11                            3400000.0   \n",
       "\n",
       "   Number of mass shootings (1983-2013)  Guns per 100 inhabitants  \\\n",
       "0                                     4                      15.0   \n",
       "1                                     1                      30.4   \n",
       "2                                     2                      17.2   \n",
       "3                                     4                      30.8   \n",
       "4                                     2                      45.7   \n",
       "\n",
       "   Average firearms per 100 people  Number of homicides by firearm  \n",
       "0                             15.0                            30.0  \n",
       "1                             30.4                            18.0  \n",
       "2                             17.2                            70.0  \n",
       "3                             30.8                           173.0  \n",
       "4                             45.7                            57.0  "
      ]
     },
     "execution_count": 11,
     "metadata": {},
     "output_type": "execute_result"
    }
   ],
   "source": [
    "shots.head()"
   ]
  },
  {
   "cell_type": "markdown",
   "metadata": {},
   "source": [
    "### plot mass shooting vs gdp in absolute numbers, and per person. Show the errorbars (y errors)"
   ]
  },
  {
   "cell_type": "code",
   "execution_count": 12,
   "metadata": {},
   "outputs": [
    {
     "data": {
      "text/plain": [
       "Text(0.5,1,'Fig 1: GDP ($US) vs. Number of Mass Shootings (1983-2012) per ')"
      ]
     },
     "execution_count": 12,
     "metadata": {},
     "output_type": "execute_result"
    },
    {
     "data": {
      "image/png": "[encoded data removed]",
      "text/plain": [
       "<matplotlib.figure.Figure at 0x7f3a86b572b0>"
      ]
     },
     "metadata": {},
     "output_type": "display_data"
    }
   ],
   "source": [
    "fig = plt.figure(figsize=(10,6))\n",
    "\n",
    "ax1 = fig.add_subplot(111)\n",
    "\n",
    "ax1.scatter(shots['gdp'] / 1e9,shots['Number of mass shootings (1983-2013)'])\n",
    "\n",
    "ax1.errorbar(shots['gdp'] / 1e9,shots['Number of mass shootings (1983-2013)'], \n",
    "             yerr = np.sqrt(shots['Number of mass shootings (1983-2013)'] * 1.0),fmt='.')\n",
    "\n",
    "ax1.set_xlabel(\"GDP (in billions)\")\n",
    "ax1.set_ylabel(\"Number of mass shooting (1983-2013)\")\n",
    "ax1.set_ylim()\n",
    "\n",
    "ax1.set_title(\"Fig 1: GDP ($US) vs. Number of Mass Shootings (1983-2012) per \")\n",
    "\n",
    "\n"
   ]
  },
  {
   "cell_type": "markdown",
   "metadata": {},
   "source": [
    "### Figure 1 plots GDP in USD vs. mass shootings over the 1983-2012 period. The outlier is the US, with very high GDP and a large number of mass shootings\")"
   ]
  },
  {
   "cell_type": "code",
   "execution_count": 13,
   "metadata": {},
   "outputs": [
    {
     "data": {
      "text/plain": [
       "Text(0.5,1,'Fig 2: GDP per Capita ($US) vs. Number of Mass Shootings (1983-2012)')"
      ]
     },
     "execution_count": 13,
     "metadata": {},
     "output_type": "execute_result"
    },
    {
     "data": {
      "image/png": "[encoded data removed]",
      "text/plain": [
       "<matplotlib.figure.Figure at 0x7f3a86adafd0>"
      ]
     },
     "metadata": {},
     "output_type": "display_data"
    }
   ],
   "source": [
    "fig = plt.figure(figsize=(10,6))\n",
    "\n",
    "ax1 = fig.add_subplot(111)\n",
    "\n",
    "ax1.scatter(shots['gdp'] / shots['pop'],shots['Number of mass shootings (1983-2013)'] )\n",
    "\n",
    "ax1.errorbar(shots['gdp'] / shots['pop'],shots['Number of mass shootings (1983-2013)'], \n",
    "             yerr = np.sqrt(shots['Number of mass shootings (1983-2013)'] * 1.0),fmt='.')\n",
    "\n",
    "ax1.set_xlabel(\"GDP per Capita ($US)\")\n",
    "ax1.set_ylabel(\"Number of mass shooting (1983-2013)\")\n",
    "ax1.set_ylim()\n",
    "\n",
    "ax1.set_title(\"Fig 2: GDP per Capita ($US) vs. Number of Mass Shootings (1983-2012)\")\n"
   ]
  },
  {
   "cell_type": "markdown",
   "metadata": {},
   "source": [
    "#### Figure 2 shows the relationship between the number of mass shootings and gdp per capita. Once again we see the US is a significant outlier in terms of the number of mass shootings but is now no longer as significant an outlier since GDP has been adjusted for population"
   ]
  },
  {
   "cell_type": "markdown",
   "metadata": {},
   "source": [
    "## plot the average number of civilian fire arms per person"
   ]
  },
  {
   "cell_type": "code",
   "execution_count": 14,
   "metadata": {},
   "outputs": [],
   "source": [
    "shots['shootingspp'] = (shots['Number of mass shootings (1983-2013)'] / shots['pop']) * 1e3"
   ]
  },
  {
   "cell_type": "code",
   "execution_count": 15,
   "metadata": {},
   "outputs": [
    {
     "data": {
      "text/plain": [
       "Text(0.5,1,'Fig 3: Avg. Firearms per person vs. Mass Shootings per 1000 people (no error bars)')"
      ]
     },
     "execution_count": 15,
     "metadata": {},
     "output_type": "execute_result"
    },
    {
     "data": {
      "image/png": "[encoded data removed]",
      "text/plain": [
       "<matplotlib.figure.Figure at 0x7f3a86b559e8>"
      ]
     },
     "metadata": {},
     "output_type": "display_data"
    }
   ],
   "source": [
    "fig = plt.figure(figsize=(10,6))\n",
    "\n",
    "ax1 = fig.add_subplot(111)\n",
    "\n",
    "ax1.scatter(shots['Average total all civilian firearms'] / shots['pop'],shots['shootingspp'])\n",
    "\n",
    "#ax1.errorbar(shots['gdp'] / shots['pop'],shots['Number of mass shootings (1983-2013)'], \n",
    "#             yerr = np.sqrt(shots['Number of mass shootings (1983-2013)'] * 1.0),fmt='.')\n",
    "\n",
    "ax1.set_xlabel(\"Average Firearms per person\")\n",
    "ax1.set_ylabel(\"Mass Shootings per 1000 People\")\n",
    "ax1.set_ylim(-0.0001,0.001)\n",
    "\n",
    "ax1.set_title(\"Fig 3: Avg. Firearms per person vs. Mass Shootings per 1000 people (no error bars)\")\n"
   ]
  },
  {
   "cell_type": "markdown",
   "metadata": {},
   "source": [
    "#### Figure 3 shows average firearms per person vs. mass shootings per 1000 people. Once population is adjusted for, the US is still an outlier in terms of how many guns there are per person but once mass shootings are adjusted for population it is not as stark."
   ]
  },
  {
   "cell_type": "code",
   "execution_count": 16,
   "metadata": {
    "scrolled": true
   },
   "outputs": [
    {
     "data": {
      "text/plain": [
       "Text(0.5,1,'Fig 4: Avg. Firearms per person vs. Mass Shootings per 1000 people (error bars included)')"
      ]
     },
     "execution_count": 16,
     "metadata": {},
     "output_type": "execute_result"
    },
    {
     "data": {
      "image/png": "[encoded data removed]",
      "text/plain": [
       "<matplotlib.figure.Figure at 0x7f3a86b14b00>"
      ]
     },
     "metadata": {},
     "output_type": "display_data"
    }
   ],
   "source": [
    "fig = plt.figure(figsize=(10,6))\n",
    "\n",
    "ax1 = fig.add_subplot(111)\n",
    "\n",
    "ax1.scatter(shots['Guns per 100 inhabitants'],shots['shootingspp'])\n",
    "\n",
    "ax1.errorbar(shots['Guns per 100 inhabitants'],shots['shootingspp'], \n",
    "             yerr = np.sqrt(shots['shootingspp']),fmt='.')\n",
    "\n",
    "ax1.set_xlabel(\"Average Firearms per 100 person\")\n",
    "ax1.set_ylabel(\"Mass Shootings per 1000 People\")\n",
    "ax1.set_ylim(-0.03,0.05)\n",
    "\n",
    "ax1.set_title(\"Fig 4: Avg. Firearms per person vs. Mass Shootings per 1000 people (error bars included)\")\n"
   ]
  },
  {
   "cell_type": "markdown",
   "metadata": {},
   "source": [
    "#### Figure 4 adds error bars to the fig 3 plot. The poisson errors are quite large relative to the value of y, since mass shootings per 1000 people are very small numbers. The scale had to be adjusted to accomodate the error bar, making it challenging to see differences across values.  There appear to be some outliers in terms of firearms per 100 people"
   ]
  },
  {
   "cell_type": "markdown",
   "metadata": {},
   "source": [
    "## plot the average number of homicide by fire arms per person"
   ]
  },
  {
   "cell_type": "code",
   "execution_count": 17,
   "metadata": {},
   "outputs": [
    {
     "data": {
      "text/plain": [
       "Text(0.5,1,'Fig 5: Histogram of Number of Homicides by Firearms per 1000 people')"
      ]
     },
     "execution_count": 17,
     "metadata": {},
     "output_type": "execute_result"
    },
    {
     "data": {
      "image/png": "[encoded data removed]",
      "text/plain": [
       "<matplotlib.figure.Figure at 0x7f3a86b55908>"
      ]
     },
     "metadata": {},
     "output_type": "display_data"
    }
   ],
   "source": [
    "\n",
    "fig = plt.figure(figsize=(10,6))\n",
    "\n",
    "ax1 = fig.add_subplot(111)\n",
    "\n",
    "ax1.hist(shots['Number of homicides by firearm'] / shots['pop'] * 1000, bins=10)\n",
    "\n",
    "ax1.set_xlabel(\"Number of Homicides by Firearm per 1000 people\")\n",
    "ax1.set_ylabel(\"Number of Countries\")\n",
    "\n",
    "ax1.set_title(\"Fig 5: Histogram of Number of Homicides by Firearms per 1000 people\")\n"
   ]
  },
  {
   "cell_type": "markdown",
   "metadata": {},
   "source": [
    "#### Figure 5 shows the histogram of number of homicides by firearm per 1000 people. This histogram reveals an obvious outlier and suggest there are a few additional countries that have high rates of gun related deaths."
   ]
  },
  {
   "cell_type": "code",
   "execution_count": 18,
   "metadata": {},
   "outputs": [
    {
     "data": {
      "text/plain": [
       "Text(0.5,1,'Fig 6: Avg. Firearms per person vs. GDP ($billions)')"
      ]
     },
     "execution_count": 18,
     "metadata": {},
     "output_type": "execute_result"
    },
    {
     "data": {
      "image/png": "[encoded data removed]",
      "text/plain": [
       "<matplotlib.figure.Figure at 0x7f3a840d34a8>"
      ]
     },
     "metadata": {},
     "output_type": "display_data"
    }
   ],
   "source": [
    "fig = plt.figure(figsize=(10,6))\n",
    "\n",
    "ax1 = fig.add_subplot(111)\n",
    "\n",
    "ax1.scatter(shots['gdp'] / 1e9,shots['Number of homicides by firearm'] / shots['pop'] * 1000)\n",
    "\n",
    "ax1.errorbar(shots['gdp'] / 1e9,shots['Number of homicides by firearm'] / shots['pop'] * 1000, \n",
    "             yerr = np.sqrt(shots['Number of homicides by firearm'] / shots['pop'] * 1000),fmt='.')\n",
    "\n",
    "ax1.set_xlabel(\"GDP ($billions)\")\n",
    "ax1.set_ylabel(\"Avg. # of Homicides by Firearm per 1000 people\")\n",
    "\n",
    "\n",
    "ax1.set_title(\"Fig 6: Avg. Firearms per person vs. GDP ($billions)\")\n"
   ]
  },
  {
   "cell_type": "markdown",
   "metadata": {},
   "source": [
    "###  plot the number of homicides by fire arm against the number of civilian firearms. plot the US in a different color"
   ]
  },
  {
   "cell_type": "code",
   "execution_count": 26,
   "metadata": {},
   "outputs": [],
   "source": [
    "#create flag for US for coloring\n",
    "shots['US_flag'] = np.where(shots['Country'] == 'United States', 1, 0)      "
   ]
  },
  {
   "cell_type": "code",
   "execution_count": 23,
   "metadata": {
    "scrolled": true
   },
   "outputs": [
    {
     "data": {
      "text/html": [
       "<div>\n",
       "<table border=\"1\" class=\"dataframe\">\n",
       "  <thead>\n",
       "    <tr style=\"text-align: right;\">\n",
       "      <th></th>\n",
       "      <th>Country</th>\n",
       "      <th>pop</th>\n",
       "      <th>gdp</th>\n",
       "      <th>Average total all civilian firearms</th>\n",
       "      <th>Number of mass shootings (1983-2013)</th>\n",
       "      <th>Guns per 100 inhabitants</th>\n",
       "      <th>Average firearms per 100 people</th>\n",
       "      <th>Number of homicides by firearm</th>\n",
       "      <th>shootingspp</th>\n",
       "      <th>US_flag</th>\n",
       "    </tr>\n",
       "  </thead>\n",
       "  <tbody>\n",
       "    <tr>\n",
       "      <th>0</th>\n",
       "      <td>Australia</td>\n",
       "      <td>22742475.0</td>\n",
       "      <td>1.543411e+12</td>\n",
       "      <td>3050000.0</td>\n",
       "      <td>4</td>\n",
       "      <td>15.0</td>\n",
       "      <td>15.0</td>\n",
       "      <td>30.0</td>\n",
       "      <td>0.000176</td>\n",
       "      <td>0</td>\n",
       "    </tr>\n",
       "    <tr>\n",
       "      <th>1</th>\n",
       "      <td>Austria</td>\n",
       "      <td>8429991.0</td>\n",
       "      <td>4.094252e+11</td>\n",
       "      <td>2500000.0</td>\n",
       "      <td>1</td>\n",
       "      <td>30.4</td>\n",
       "      <td>30.4</td>\n",
       "      <td>18.0</td>\n",
       "      <td>0.000119</td>\n",
       "      <td>0</td>\n",
       "    </tr>\n",
       "    <tr>\n",
       "      <th>2</th>\n",
       "      <td>Belgium</td>\n",
       "      <td>11128246.0</td>\n",
       "      <td>4.978842e+11</td>\n",
       "      <td>1800000.0</td>\n",
       "      <td>2</td>\n",
       "      <td>17.2</td>\n",
       "      <td>17.2</td>\n",
       "      <td>70.0</td>\n",
       "      <td>0.000180</td>\n",
       "      <td>0</td>\n",
       "    </tr>\n",
       "    <tr>\n",
       "      <th>3</th>\n",
       "      <td>Canada</td>\n",
       "      <td>34750545.0</td>\n",
       "      <td>1.824289e+12</td>\n",
       "      <td>9950000.0</td>\n",
       "      <td>4</td>\n",
       "      <td>30.8</td>\n",
       "      <td>30.8</td>\n",
       "      <td>173.0</td>\n",
       "      <td>0.000115</td>\n",
       "      <td>0</td>\n",
       "    </tr>\n",
       "    <tr>\n",
       "      <th>4</th>\n",
       "      <td>Switzerland</td>\n",
       "      <td>7996861.0</td>\n",
       "      <td>6.680436e+11</td>\n",
       "      <td>3400000.0</td>\n",
       "      <td>2</td>\n",
       "      <td>45.7</td>\n",
       "      <td>45.7</td>\n",
       "      <td>57.0</td>\n",
       "      <td>0.000250</td>\n",
       "      <td>0</td>\n",
       "    </tr>\n",
       "  </tbody>\n",
       "</table>\n",
       "</div>"
      ],
      "text/plain": [
       "       Country         pop           gdp  Average total all civilian firearms  \\\n",
       "0    Australia  22742475.0  1.543411e+12                            3050000.0   \n",
       "1      Austria   8429991.0  4.094252e+11                            2500000.0   \n",
       "2      Belgium  11128246.0  4.978842e+11                            1800000.0   \n",
       "3       Canada  34750545.0  1.824289e+12                            9950000.0   \n",
       "4  Switzerland   7996861.0  6.680436e+11                            3400000.0   \n",
       "\n",
       "   Number of mass shootings (1983-2013)  Guns per 100 inhabitants  \\\n",
       "0                                     4                      15.0   \n",
       "1                                     1                      30.4   \n",
       "2                                     2                      17.2   \n",
       "3                                     4                      30.8   \n",
       "4                                     2                      45.7   \n",
       "\n",
       "   Average firearms per 100 people  Number of homicides by firearm  \\\n",
       "0                             15.0                            30.0   \n",
       "1                             30.4                            18.0   \n",
       "2                             17.2                            70.0   \n",
       "3                             30.8                           173.0   \n",
       "4                             45.7                            57.0   \n",
       "\n",
       "   shootingspp  US_flag  \n",
       "0     0.000176        0  \n",
       "1     0.000119        0  \n",
       "2     0.000180        0  \n",
       "3     0.000115        0  \n",
       "4     0.000250        0  "
      ]
     },
     "execution_count": 23,
     "metadata": {},
     "output_type": "execute_result"
    }
   ],
   "source": [
    "shots.head()"
   ]
  },
  {
   "cell_type": "code",
   "execution_count": 29,
   "metadata": {},
   "outputs": [
    {
     "data": {
      "text/plain": [
       "Text(0.5,1,'Fig 6: Avg. Firearms per person vs. GDP ($billions)')"
      ]
     },
     "execution_count": 29,
     "metadata": {},
     "output_type": "execute_result"
    },
    {
     "data": {
      "image/png": "[encoded data removed]",
      "text/plain": [
       "<matplotlib.figure.Figure at 0x7f3a83f44160>"
      ]
     },
     "metadata": {},
     "output_type": "display_data"
    }
   ],
   "source": [
    "fig = plt.figure(figsize=(10,6))\n",
    "\n",
    "ax1 = fig.add_subplot(111)\n",
    "\n",
    "ax1.scatter(shots['Average total all civilian firearms'],shots['Number of homicides by firearm'],c=shots['US_flag'],cmap='GnBu')\n",
    "#ax1.errorbar(shots['gdp'] / 1e9,shots['Number of homicides by firearm'] / shots['pop'] * 1000, \n",
    "#             yerr = np.sqrt(shots['Number of homicides by firearm'] / shots['pop'] * 1000),fmt='.')\n",
    "\n",
    "ax1.set_xlabel(\"Average total all civilian firearms\")\n",
    "ax1.set_ylabel(\"Number of homicides by firearm\")\n",
    "\n",
    "\n",
    "ax1.set_title(\"Fig 7: Number of Homicides by Firearm vs. Number of Civilian Firearms\")\n"
   ]
  },
  {
   "cell_type": "markdown",
   "metadata": {},
   "source": [
    "### Figure 7 shows the relationship between the number of homicides by firearm and all civilian firearms in a country. As expected, the US is a significant outlier both in terms of the number of firearms and the number of firearm deaths."
   ]
  },
  {
   "cell_type": "code",
   "execution_count": 45,
   "metadata": {},
   "outputs": [
    {
     "data": {
      "text/plain": [
       "Text(0.5,1,'Fig 8: Number of Homicides by Firearm vs. Number of Civilian Firearms (with error bars)')"
      ]
     },
     "execution_count": 45,
     "metadata": {},
     "output_type": "execute_result"
    },
    {
     "data": {
      "image/png": "[encoded data removed]",
      "text/plain": [
       "<matplotlib.figure.Figure at 0x7f3a83a6a780>"
      ]
     },
     "metadata": {},
     "output_type": "display_data"
    }
   ],
   "source": [
    "fig = plt.figure(figsize=(10,6))\n",
    "\n",
    "ax1 = fig.add_subplot(111)\n",
    "\n",
    "ax1.scatter(shots['Average total all civilian firearms'],shots['Number of homicides by firearm'],c=shots['US_flag'],cmap='GnBu')\n",
    "ax1.errorbar(shots['Average total all civilian firearms'],shots['Number of homicides by firearm'], \n",
    "             yerr = np.sqrt(shots['Number of homicides by firearm'] * 1),fmt='.',zorder=0)\n",
    "\n",
    "ax1.set_xlabel(\"Average total all civilian firearms\")\n",
    "ax1.set_ylabel(\"Number of homicides by firearm\")\n",
    "\n",
    "\n",
    "ax1.set_title(\"Fig 8: Number of Homicides by Firearm vs. Number of Civilian Firearms (with error bars)\")\n"
   ]
  },
  {
   "cell_type": "markdown",
   "metadata": {},
   "source": [
    "### Figure 8 shows the relationship between the number of homicides by firearm and all civilian firearms in a country. As expected, the US is a significant outlier both in terms of the number of firearms and the number of firearm deaths."
   ]
  },
  {
   "cell_type": "markdown",
   "metadata": {},
   "source": [
    "### plot the number of mass shootings against the number of civilian firearms. plot the US in a different color"
   ]
  },
  {
   "cell_type": "code",
   "execution_count": 46,
   "metadata": {},
   "outputs": [
    {
     "data": {
      "text/plain": [
       "Text(0.5,1,'Fig 9: Mass Shootings vs. Civilian Firearms (no errorbars)')"
      ]
     },
     "execution_count": 46,
     "metadata": {},
     "output_type": "execute_result"
    },
    {
     "data": {
      "image/png": "[encoded data removed]",
      "text/plain": [
       "<matplotlib.figure.Figure at 0x7f3a83a63b38>"
      ]
     },
     "metadata": {},
     "output_type": "display_data"
    }
   ],
   "source": [
    "fig = plt.figure(figsize=(10,6))\n",
    "\n",
    "ax1 = fig.add_subplot(111)\n",
    "\n",
    "ax1.scatter(shots['Average total all civilian firearms'],shots['Number of mass shootings (1983-2013)'],c=shots['US_flag'],cmap='GnBu')\n",
    "#ax1.errorbar(shots['gdp'] / 1e9,shots['Number of homicides by firearm'] / shots['pop'] * 1000, \n",
    "#             yerr = np.sqrt(shots['Number of homicides by firearm'] / shots['pop'] * 1000),fmt='.')\n",
    "\n",
    "ax1.set_xlabel(\"Average total all civilian firearms\")\n",
    "ax1.set_ylabel(\"Number of homicides by firearm\")\n",
    "\n",
    "\n",
    "ax1.set_title(\"Fig 9: Mass Shootings vs. Civilian Firearms (no errorbars)\")\n"
   ]
  },
  {
   "cell_type": "markdown",
   "metadata": {},
   "source": [
    "### Figure 9 shows the relationship between mass shootings and civilian firearms. The US is a significant outlier and is colored in dark blue."
   ]
  },
  {
   "cell_type": "code",
   "execution_count": 48,
   "metadata": {},
   "outputs": [
    {
     "data": {
      "text/plain": [
       "Text(0.5,1,'Fig 10: Mass Shootings vs. Civilian Firearms (with errorbars)')"
      ]
     },
     "execution_count": 48,
     "metadata": {},
     "output_type": "execute_result"
    },
    {
     "data": {
      "image/png": "[encoded data removed]",
      "text/plain": [
       "<matplotlib.figure.Figure at 0x7f3a839c3208>"
      ]
     },
     "metadata": {},
     "output_type": "display_data"
    }
   ],
   "source": [
    "fig = plt.figure(figsize=(10,6))\n",
    "\n",
    "ax1 = fig.add_subplot(111)\n",
    "\n",
    "ax1.scatter(shots['Average total all civilian firearms'],shots['Number of mass shootings (1983-2013)'],c=shots['US_flag'],cmap='winter')\n",
    "ax1.errorbar(shots['Average total all civilian firearms'],shots['Number of mass shootings (1983-2013)'], \n",
    "             yerr = np.sqrt(shots['Number of mass shootings (1983-2013)'] * 1.0),fmt='.',zorder=0)\n",
    "\n",
    "ax1.set_xlabel(\"Average total all civilian firearms\")\n",
    "ax1.set_ylabel(\"Number of homicides by firearm\")\n",
    "\n",
    "\n",
    "ax1.set_title(\"Fig 10: Mass Shootings vs. Civilian Firearms (with errorbars)\")\n"
   ]
  },
  {
   "cell_type": "markdown",
   "metadata": {},
   "source": [
    "### fit a line to the Number of mass shootings per person as a function of Average total all civilian firearms per person."
   ]
  },
  {
   "cell_type": "code",
   "execution_count": 50,
   "metadata": {},
   "outputs": [],
   "source": [
    "shots['firearmspp'] = shots['Average total all civilian firearms'] / shots['pop']"
   ]
  },
  {
   "cell_type": "code",
   "execution_count": 51,
   "metadata": {},
   "outputs": [
    {
     "data": {
      "text/html": [
       "<div>\n",
       "<table border=\"1\" class=\"dataframe\">\n",
       "  <thead>\n",
       "    <tr style=\"text-align: right;\">\n",
       "      <th></th>\n",
       "      <th>Country</th>\n",
       "      <th>pop</th>\n",
       "      <th>gdp</th>\n",
       "      <th>Average total all civilian firearms</th>\n",
       "      <th>Number of mass shootings (1983-2013)</th>\n",
       "      <th>Guns per 100 inhabitants</th>\n",
       "      <th>Average firearms per 100 people</th>\n",
       "      <th>Number of homicides by firearm</th>\n",
       "      <th>shootingspp</th>\n",
       "      <th>US_flag</th>\n",
       "      <th>firearmspp</th>\n",
       "    </tr>\n",
       "  </thead>\n",
       "  <tbody>\n",
       "    <tr>\n",
       "      <th>0</th>\n",
       "      <td>Australia</td>\n",
       "      <td>22742475.0</td>\n",
       "      <td>1.543411e+12</td>\n",
       "      <td>3050000.0</td>\n",
       "      <td>4</td>\n",
       "      <td>15.0</td>\n",
       "      <td>15.0</td>\n",
       "      <td>30.0</td>\n",
       "      <td>0.000176</td>\n",
       "      <td>0</td>\n",
       "      <td>0.134110</td>\n",
       "    </tr>\n",
       "    <tr>\n",
       "      <th>1</th>\n",
       "      <td>Austria</td>\n",
       "      <td>8429991.0</td>\n",
       "      <td>4.094252e+11</td>\n",
       "      <td>2500000.0</td>\n",
       "      <td>1</td>\n",
       "      <td>30.4</td>\n",
       "      <td>30.4</td>\n",
       "      <td>18.0</td>\n",
       "      <td>0.000119</td>\n",
       "      <td>0</td>\n",
       "      <td>0.296560</td>\n",
       "    </tr>\n",
       "    <tr>\n",
       "      <th>2</th>\n",
       "      <td>Belgium</td>\n",
       "      <td>11128246.0</td>\n",
       "      <td>4.978842e+11</td>\n",
       "      <td>1800000.0</td>\n",
       "      <td>2</td>\n",
       "      <td>17.2</td>\n",
       "      <td>17.2</td>\n",
       "      <td>70.0</td>\n",
       "      <td>0.000180</td>\n",
       "      <td>0</td>\n",
       "      <td>0.161751</td>\n",
       "    </tr>\n",
       "    <tr>\n",
       "      <th>3</th>\n",
       "      <td>Canada</td>\n",
       "      <td>34750545.0</td>\n",
       "      <td>1.824289e+12</td>\n",
       "      <td>9950000.0</td>\n",
       "      <td>4</td>\n",
       "      <td>30.8</td>\n",
       "      <td>30.8</td>\n",
       "      <td>173.0</td>\n",
       "      <td>0.000115</td>\n",
       "      <td>0</td>\n",
       "      <td>0.286326</td>\n",
       "    </tr>\n",
       "    <tr>\n",
       "      <th>4</th>\n",
       "      <td>Switzerland</td>\n",
       "      <td>7996861.0</td>\n",
       "      <td>6.680436e+11</td>\n",
       "      <td>3400000.0</td>\n",
       "      <td>2</td>\n",
       "      <td>45.7</td>\n",
       "      <td>45.7</td>\n",
       "      <td>57.0</td>\n",
       "      <td>0.000250</td>\n",
       "      <td>0</td>\n",
       "      <td>0.425167</td>\n",
       "    </tr>\n",
       "  </tbody>\n",
       "</table>\n",
       "</div>"
      ],
      "text/plain": [
       "       Country         pop           gdp  Average total all civilian firearms  \\\n",
       "0    Australia  22742475.0  1.543411e+12                            3050000.0   \n",
       "1      Austria   8429991.0  4.094252e+11                            2500000.0   \n",
       "2      Belgium  11128246.0  4.978842e+11                            1800000.0   \n",
       "3       Canada  34750545.0  1.824289e+12                            9950000.0   \n",
       "4  Switzerland   7996861.0  6.680436e+11                            3400000.0   \n",
       "\n",
       "   Number of mass shootings (1983-2013)  Guns per 100 inhabitants  \\\n",
       "0                                     4                      15.0   \n",
       "1                                     1                      30.4   \n",
       "2                                     2                      17.2   \n",
       "3                                     4                      30.8   \n",
       "4                                     2                      45.7   \n",
       "\n",
       "   Average firearms per 100 people  Number of homicides by firearm  \\\n",
       "0                             15.0                            30.0   \n",
       "1                             30.4                            18.0   \n",
       "2                             17.2                            70.0   \n",
       "3                             30.8                           173.0   \n",
       "4                             45.7                            57.0   \n",
       "\n",
       "   shootingspp  US_flag  firearmspp  \n",
       "0     0.000176        0    0.134110  \n",
       "1     0.000119        0    0.296560  \n",
       "2     0.000180        0    0.161751  \n",
       "3     0.000115        0    0.286326  \n",
       "4     0.000250        0    0.425167  "
      ]
     },
     "execution_count": 51,
     "metadata": {},
     "output_type": "execute_result"
    }
   ],
   "source": [
    "shots.head()"
   ]
  },
  {
   "cell_type": "code",
   "execution_count": 52,
   "metadata": {},
   "outputs": [],
   "source": [
    "#normalize the data:\n",
    "\n",
    "shots['firearmspp_adj'] = (shots['firearmspp'] - shots['firearmspp'].mean()) / shots['firearmspp'].std()\n",
    "shots['shootingspp_adj'] = (shots['shootingspp'] - shots['shootingspp'].mean()) / shots['shootingspp'].std()"
   ]
  },
  {
   "cell_type": "code",
   "execution_count": 53,
   "metadata": {},
   "outputs": [
    {
     "data": {
      "text/html": [
       "<div>\n",
       "<table border=\"1\" class=\"dataframe\">\n",
       "  <thead>\n",
       "    <tr style=\"text-align: right;\">\n",
       "      <th></th>\n",
       "      <th>Country</th>\n",
       "      <th>pop</th>\n",
       "      <th>gdp</th>\n",
       "      <th>Average total all civilian firearms</th>\n",
       "      <th>Number of mass shootings (1983-2013)</th>\n",
       "      <th>Guns per 100 inhabitants</th>\n",
       "      <th>Average firearms per 100 people</th>\n",
       "      <th>Number of homicides by firearm</th>\n",
       "      <th>shootingspp</th>\n",
       "      <th>US_flag</th>\n",
       "      <th>firearmspp</th>\n",
       "      <th>firearmspp_adj</th>\n",
       "      <th>shootingspp_adj</th>\n",
       "    </tr>\n",
       "  </thead>\n",
       "  <tbody>\n",
       "    <tr>\n",
       "      <th>0</th>\n",
       "      <td>Australia</td>\n",
       "      <td>22742475.0</td>\n",
       "      <td>1.543411e+12</td>\n",
       "      <td>3050000.0</td>\n",
       "      <td>4</td>\n",
       "      <td>15.0</td>\n",
       "      <td>15.0</td>\n",
       "      <td>30.0</td>\n",
       "      <td>0.000176</td>\n",
       "      <td>0</td>\n",
       "      <td>0.134110</td>\n",
       "      <td>-0.499299</td>\n",
       "      <td>0.324284</td>\n",
       "    </tr>\n",
       "    <tr>\n",
       "      <th>1</th>\n",
       "      <td>Austria</td>\n",
       "      <td>8429991.0</td>\n",
       "      <td>4.094252e+11</td>\n",
       "      <td>2500000.0</td>\n",
       "      <td>1</td>\n",
       "      <td>30.4</td>\n",
       "      <td>30.4</td>\n",
       "      <td>18.0</td>\n",
       "      <td>0.000119</td>\n",
       "      <td>0</td>\n",
       "      <td>0.296560</td>\n",
       "      <td>0.383248</td>\n",
       "      <td>-0.030652</td>\n",
       "    </tr>\n",
       "    <tr>\n",
       "      <th>2</th>\n",
       "      <td>Belgium</td>\n",
       "      <td>11128246.0</td>\n",
       "      <td>4.978842e+11</td>\n",
       "      <td>1800000.0</td>\n",
       "      <td>2</td>\n",
       "      <td>17.2</td>\n",
       "      <td>17.2</td>\n",
       "      <td>70.0</td>\n",
       "      <td>0.000180</td>\n",
       "      <td>0</td>\n",
       "      <td>0.161751</td>\n",
       "      <td>-0.349137</td>\n",
       "      <td>0.348091</td>\n",
       "    </tr>\n",
       "    <tr>\n",
       "      <th>3</th>\n",
       "      <td>Canada</td>\n",
       "      <td>34750545.0</td>\n",
       "      <td>1.824289e+12</td>\n",
       "      <td>9950000.0</td>\n",
       "      <td>4</td>\n",
       "      <td>30.8</td>\n",
       "      <td>30.8</td>\n",
       "      <td>173.0</td>\n",
       "      <td>0.000115</td>\n",
       "      <td>0</td>\n",
       "      <td>0.286326</td>\n",
       "      <td>0.327651</td>\n",
       "      <td>-0.052460</td>\n",
       "    </tr>\n",
       "    <tr>\n",
       "      <th>4</th>\n",
       "      <td>Switzerland</td>\n",
       "      <td>7996861.0</td>\n",
       "      <td>6.680436e+11</td>\n",
       "      <td>3400000.0</td>\n",
       "      <td>2</td>\n",
       "      <td>45.7</td>\n",
       "      <td>45.7</td>\n",
       "      <td>57.0</td>\n",
       "      <td>0.000250</td>\n",
       "      <td>0</td>\n",
       "      <td>0.425167</td>\n",
       "      <td>1.081934</td>\n",
       "      <td>0.784338</td>\n",
       "    </tr>\n",
       "  </tbody>\n",
       "</table>\n",
       "</div>"
      ],
      "text/plain": [
       "       Country         pop           gdp  Average total all civilian firearms  \\\n",
       "0    Australia  22742475.0  1.543411e+12                            3050000.0   \n",
       "1      Austria   8429991.0  4.094252e+11                            2500000.0   \n",
       "2      Belgium  11128246.0  4.978842e+11                            1800000.0   \n",
       "3       Canada  34750545.0  1.824289e+12                            9950000.0   \n",
       "4  Switzerland   7996861.0  6.680436e+11                            3400000.0   \n",
       "\n",
       "   Number of mass shootings (1983-2013)  Guns per 100 inhabitants  \\\n",
       "0                                     4                      15.0   \n",
       "1                                     1                      30.4   \n",
       "2                                     2                      17.2   \n",
       "3                                     4                      30.8   \n",
       "4                                     2                      45.7   \n",
       "\n",
       "   Average firearms per 100 people  Number of homicides by firearm  \\\n",
       "0                             15.0                            30.0   \n",
       "1                             30.4                            18.0   \n",
       "2                             17.2                            70.0   \n",
       "3                             30.8                           173.0   \n",
       "4                             45.7                            57.0   \n",
       "\n",
       "   shootingspp  US_flag  firearmspp  firearmspp_adj  shootingspp_adj  \n",
       "0     0.000176        0    0.134110       -0.499299         0.324284  \n",
       "1     0.000119        0    0.296560        0.383248        -0.030652  \n",
       "2     0.000180        0    0.161751       -0.349137         0.348091  \n",
       "3     0.000115        0    0.286326        0.327651        -0.052460  \n",
       "4     0.000250        0    0.425167        1.081934         0.784338  "
      ]
     },
     "execution_count": 53,
     "metadata": {},
     "output_type": "execute_result"
    }
   ],
   "source": [
    "shots.head()"
   ]
  },
  {
   "cell_type": "code",
   "execution_count": 68,
   "metadata": {},
   "outputs": [
    {
     "data": {
      "text/plain": [
       "Text(0.5,1,'Fig 11: Mass Shootings Per Person vs. Firearms Per Person')"
      ]
     },
     "execution_count": 68,
     "metadata": {},
     "output_type": "execute_result"
    },
    {
     "name": "stderr",
     "output_type": "stream",
     "text": [
      "/usr/local/Anaconda3-5.0.0-Linux-x86_64/envs/PUI2016_Python3/lib/python3.5/site-packages/matplotlib/font_manager.py:1316: UserWarning: findfont: Font family ['sans-serif'] not found. Falling back to DejaVu Sans\n",
      "  (prop.get_family(), self.defaultFamily[fontext]))\n"
     ]
    },
    {
     "data": {
      "image/png": "[encoded data removed]",
      "text/plain": [
       "<matplotlib.figure.Figure at 0x7f3a79919a20>"
      ]
     },
     "metadata": {},
     "output_type": "display_data"
    }
   ],
   "source": [
    "#seaborn plot\n",
    "\n",
    "fig = plt.figure(figsize=(10,6))\n",
    "\n",
    "ax1 = fig.add_subplot(111)\n",
    "sns.regplot(x=\"firearmspp\", y=\"shootingspp\", data=shots,x_estimator=np.mean,ci=50)\n",
    "\n",
    "ax1.set_xlabel(\"Firearms Per Person\")\n",
    "ax1.set_ylabel(\" Mass Shootings Per Person\")\n",
    "\n",
    "\n",
    "ax1.set_title(\"Fig 11: Mass Shootings Per Person vs. Firearms Per Person\")\n"
   ]
  }
 ],
 "metadata": {
  "kernelspec": {
   "display_name": "PUI2016_Python3",
   "language": "python",
   "name": "pui2016_python3"
  },
  "language_info": {
   "codemirror_mode": {
    "name": "ipython",
    "version": 3
   },
   "file_extension": ".py",
   "mimetype": "text/x-python",
   "name": "python",
   "nbconvert_exporter": "python",
   "pygments_lexer": "ipython3",
   "version": "3.5.4"
  }
 },
 "nbformat": 4,
 "nbformat_minor": 2
}
