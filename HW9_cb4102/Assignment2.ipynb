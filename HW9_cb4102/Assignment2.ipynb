{
 "cells": [
  {
   "cell_type": "code",
   "execution_count": 3,
   "metadata": {},
   "outputs": [
    {
     "name": "stdout",
     "output_type": "stream",
     "text": [
      "Populating the interactive namespace from numpy and matplotlib\n"
     ]
    }
   ],
   "source": [
    "import pandas as pd\n",
    "import numpy as np\n",
    "import os\n",
    "import json\n",
    "\n",
    "import matplotlib.pyplot as plt\n",
    "\n",
    "import statsmodels.api as sm\n",
    "import statsmodels.formula.api as smf\n",
    "\n",
    "%pylab inline "
   ]
  },
  {
   "cell_type": "code",
   "execution_count": 24,
   "metadata": {},
   "outputs": [],
   "source": [
    "def errors(x):\n",
    "    return np.sqrt(x)\n",
    "\n",
    "#changing function to true-false boolean on errors:\n",
    "\n",
    "def line(a, x, b=0, errors=False):\n",
    "    np.random.randn(123)\n",
    "    if errors is False:\n",
    "        return a*x + b \n",
    "    else:\n",
    "        return a*x + b + np.random.randn(len(x)) * np.sqrt(x)"
   ]
  },
  {
   "cell_type": "markdown",
   "metadata": {},
   "source": [
    "### 1. create a line with a chosen slope and intercept = 0 and plot it with uncertainties as errorbars"
   ]
  },
  {
   "cell_type": "code",
   "execution_count": 83,
   "metadata": {},
   "outputs": [],
   "source": [
    "x = [10,20,30,40,50,60,70,80,90,100]\n",
    "y = [15,35,65,80,110,105,130,150,160,190]\n",
    "x = np.array(x)\n",
    "y = np.array(y)\n",
    "y_error = errors(x)\n",
    "line_est = line(2,x,0,errors=True)"
   ]
  },
  {
   "cell_type": "code",
   "execution_count": 84,
   "metadata": {},
   "outputs": [
    {
     "data": {
      "text/plain": [
       "array([  16.3136568 ,   45.10479497,   52.3657893 ,   81.64597013,\n",
       "        100.79202033,  110.90935605,  134.42325059,  178.01712563,\n",
       "        181.24540128,  194.44864343])"
      ]
     },
     "execution_count": 84,
     "metadata": {},
     "output_type": "execute_result"
    }
   ],
   "source": [
    "line_est"
   ]
  },
  {
   "cell_type": "code",
   "execution_count": 85,
   "metadata": {},
   "outputs": [
    {
     "data": {
      "text/plain": [
       "Text(0.5,1,'Fig 1: Illustration of Graph with Errror Bars and a Line of Best Fit')"
      ]
     },
     "execution_count": 85,
     "metadata": {},
     "output_type": "execute_result"
    },
    {
     "data": {
      "image/png": "[encoded data removed]",
      "text/plain": [
       "<matplotlib.figure.Figure at 0x7f98e2132cf8>"
      ]
     },
     "metadata": {},
     "output_type": "display_data"
    }
   ],
   "source": [
    "fig = plt.figure(figsize=(8,8)) #initialize figure\n",
    "ax1 = fig.add_subplot(111) #initialize first axis\n",
    "\n",
    "ax1.errorbar(x,line_est,yerr=y_error,fmt='none',marker='o')\n",
    "ax1.plot(x,line_est)\n",
    "\n",
    "#add stylistic elements:\n",
    "\n",
    "ax1.set_xlabel(\"Exogenous\") #x label added\n",
    "ax1.set_ylabel(\"Endogenous\") #add Y label\n",
    "ax1.grid()\n",
    "\n",
    "plt.title(\"Fig 1: Illustration of Graph with Errror Bars and a Line of Best Fit\")\n"
   ]
  },
  {
   "cell_type": "markdown",
   "metadata": {},
   "source": [
    "### 2. print y, x, and the result of applying statsmodels.api.add_constant() to x"
   ]
  },
  {
   "cell_type": "code",
   "execution_count": 48,
   "metadata": {},
   "outputs": [
    {
     "name": "stdout",
     "output_type": "stream",
     "text": [
      "this is the x array: [ 10  20  30  40  50  60  70  80  90 100]\n",
      "this is the y array: [ 15  35  65  80 110 105 130 150 160 190]\n"
     ]
    }
   ],
   "source": [
    "print(\"this is the x array:\",x)\n",
    "print(\"this is the y array:\",y)"
   ]
  },
  {
   "cell_type": "code",
   "execution_count": 49,
   "metadata": {},
   "outputs": [
    {
     "name": "stdout",
     "output_type": "stream",
     "text": [
      "This is x with the add_constant function applied to it [[   1.   10.]\n",
      " [   1.   20.]\n",
      " [   1.   30.]\n",
      " [   1.   40.]\n",
      " [   1.   50.]\n",
      " [   1.   60.]\n",
      " [   1.   70.]\n",
      " [   1.   80.]\n",
      " [   1.   90.]\n",
      " [   1.  100.]]\n"
     ]
    }
   ],
   "source": [
    "X = sm.add_constant(x)\n",
    "print(\"This is x with the add_constant function applied to it\",X)"
   ]
  },
  {
   "cell_type": "markdown",
   "metadata": {},
   "source": [
    "### 3. use statsmodels.api.OLS to fit x and y"
   ]
  },
  {
   "cell_type": "code",
   "execution_count": 86,
   "metadata": {},
   "outputs": [
    {
     "name": "stderr",
     "output_type": "stream",
     "text": [
      "/usr/local/Anaconda3-5.0.0-Linux-x86_64/envs/PUI2016_Python3/lib/python3.5/site-packages/scipy/stats/stats.py:1535: UserWarning: kurtosistest only valid for n>=20 ... continuing anyway, n=10\n",
      "  \"anyway, n=%i\" % int(n))\n"
     ]
    },
    {
     "data": {
      "text/html": [
       "<table class=\"simpletable\">\n",
       "<caption>OLS Regression Results</caption>\n",
       "<tr>\n",
       "  <th>Dep. Variable:</th>            <td>y</td>        <th>  R-squared:         </th> <td>   0.996</td>\n",
       "</tr>\n",
       "<tr>\n",
       "  <th>Model:</th>                   <td>OLS</td>       <th>  Adj. R-squared:    </th> <td>   0.996</td>\n",
       "</tr>\n",
       "<tr>\n",
       "  <th>Method:</th>             <td>Least Squares</td>  <th>  F-statistic:       </th> <td>   2423.</td>\n",
       "</tr>\n",
       "<tr>\n",
       "  <th>Date:</th>             <td>Mon, 12 Nov 2018</td> <th>  Prob (F-statistic):</th> <td>2.95e-12</td>\n",
       "</tr>\n",
       "<tr>\n",
       "  <th>Time:</th>                 <td>12:53:04</td>     <th>  Log-Likelihood:    </th> <td> -34.422</td>\n",
       "</tr>\n",
       "<tr>\n",
       "  <th>No. Observations:</th>      <td>    10</td>      <th>  AIC:               </th> <td>   70.84</td>\n",
       "</tr>\n",
       "<tr>\n",
       "  <th>Df Residuals:</th>          <td>     9</td>      <th>  BIC:               </th> <td>   71.15</td>\n",
       "</tr>\n",
       "<tr>\n",
       "  <th>Df Model:</th>              <td>     1</td>      <th>                     </th>     <td> </td>   \n",
       "</tr>\n",
       "<tr>\n",
       "  <th>Covariance Type:</th>      <td>nonrobust</td>    <th>                     </th>     <td> </td>   \n",
       "</tr>\n",
       "</table>\n",
       "<table class=\"simpletable\">\n",
       "<tr>\n",
       "   <td></td>     <th>coef</th>     <th>std err</th>      <th>t</th>      <th>P>|t|</th> <th>[95.0% Conf. Int.]</th> \n",
       "</tr>\n",
       "<tr>\n",
       "  <th>x1</th> <td>    2.0001</td> <td>    0.041</td> <td>   49.228</td> <td> 0.000</td> <td>    1.908     2.092</td>\n",
       "</tr>\n",
       "</table>\n",
       "<table class=\"simpletable\">\n",
       "<tr>\n",
       "  <th>Omnibus:</th>       <td> 7.118</td> <th>  Durbin-Watson:     </th> <td>   2.309</td>\n",
       "</tr>\n",
       "<tr>\n",
       "  <th>Prob(Omnibus):</th> <td> 0.028</td> <th>  Jarque-Bera (JB):  </th> <td>   2.800</td>\n",
       "</tr>\n",
       "<tr>\n",
       "  <th>Skew:</th>          <td> 1.211</td> <th>  Prob(JB):          </th> <td>   0.247</td>\n",
       "</tr>\n",
       "<tr>\n",
       "  <th>Kurtosis:</th>      <td> 3.926</td> <th>  Cond. No.          </th> <td>    1.00</td>\n",
       "</tr>\n",
       "</table>"
      ],
      "text/plain": [
       "<class 'statsmodels.iolib.summary.Summary'>\n",
       "\"\"\"\n",
       "                            OLS Regression Results                            \n",
       "==============================================================================\n",
       "Dep. Variable:                      y   R-squared:                       0.996\n",
       "Model:                            OLS   Adj. R-squared:                  0.996\n",
       "Method:                 Least Squares   F-statistic:                     2423.\n",
       "Date:                Mon, 12 Nov 2018   Prob (F-statistic):           2.95e-12\n",
       "Time:                        12:53:04   Log-Likelihood:                -34.422\n",
       "No. Observations:                  10   AIC:                             70.84\n",
       "Df Residuals:                       9   BIC:                             71.15\n",
       "Df Model:                           1                                         \n",
       "Covariance Type:            nonrobust                                         \n",
       "==============================================================================\n",
       "                 coef    std err          t      P>|t|      [95.0% Conf. Int.]\n",
       "------------------------------------------------------------------------------\n",
       "x1             2.0001      0.041     49.228      0.000         1.908     2.092\n",
       "==============================================================================\n",
       "Omnibus:                        7.118   Durbin-Watson:                   2.309\n",
       "Prob(Omnibus):                  0.028   Jarque-Bera (JB):                2.800\n",
       "Skew:                           1.211   Prob(JB):                        0.247\n",
       "Kurtosis:                       3.926   Cond. No.                         1.00\n",
       "==============================================================================\n",
       "\n",
       "Warnings:\n",
       "[1] Standard Errors assume that the covariance matrix of the errors is correctly specified.\n",
       "\"\"\""
      ]
     },
     "execution_count": 86,
     "metadata": {},
     "output_type": "execute_result"
    }
   ],
   "source": [
    "#The Wrong Way:\n",
    "wrong_model = sm.OLS(line_est,x).fit()\n",
    "wrong_model.summary()"
   ]
  },
  {
   "cell_type": "code",
   "execution_count": 87,
   "metadata": {},
   "outputs": [
    {
     "name": "stderr",
     "output_type": "stream",
     "text": [
      "/usr/local/Anaconda3-5.0.0-Linux-x86_64/envs/PUI2016_Python3/lib/python3.5/site-packages/scipy/stats/stats.py:1535: UserWarning: kurtosistest only valid for n>=20 ... continuing anyway, n=10\n",
      "  \"anyway, n=%i\" % int(n))\n"
     ]
    },
    {
     "data": {
      "text/html": [
       "<table class=\"simpletable\">\n",
       "<caption>OLS Regression Results</caption>\n",
       "<tr>\n",
       "  <th>Dep. Variable:</th>            <td>y</td>        <th>  R-squared:         </th> <td>   0.984</td>\n",
       "</tr>\n",
       "<tr>\n",
       "  <th>Model:</th>                   <td>OLS</td>       <th>  Adj. R-squared:    </th> <td>   0.982</td>\n",
       "</tr>\n",
       "<tr>\n",
       "  <th>Method:</th>             <td>Least Squares</td>  <th>  F-statistic:       </th> <td>   485.6</td>\n",
       "</tr>\n",
       "<tr>\n",
       "  <th>Date:</th>             <td>Mon, 12 Nov 2018</td> <th>  Prob (F-statistic):</th> <td>1.90e-08</td>\n",
       "</tr>\n",
       "<tr>\n",
       "  <th>Time:</th>                 <td>12:53:12</td>     <th>  Log-Likelihood:    </th> <td> -34.327</td>\n",
       "</tr>\n",
       "<tr>\n",
       "  <th>No. Observations:</th>      <td>    10</td>      <th>  AIC:               </th> <td>   72.65</td>\n",
       "</tr>\n",
       "<tr>\n",
       "  <th>Df Residuals:</th>          <td>     8</td>      <th>  BIC:               </th> <td>   73.26</td>\n",
       "</tr>\n",
       "<tr>\n",
       "  <th>Df Model:</th>              <td>     1</td>      <th>                     </th>     <td> </td>   \n",
       "</tr>\n",
       "<tr>\n",
       "  <th>Covariance Type:</th>      <td>nonrobust</td>    <th>                     </th>     <td> </td>   \n",
       "</tr>\n",
       "</table>\n",
       "<table class=\"simpletable\">\n",
       "<tr>\n",
       "    <td></td>       <th>coef</th>     <th>std err</th>      <th>t</th>      <th>P>|t|</th> <th>[95.0% Conf. Int.]</th> \n",
       "</tr>\n",
       "<tr>\n",
       "  <th>const</th> <td>   -2.2369</td> <td>    5.722</td> <td>   -0.391</td> <td> 0.706</td> <td>  -15.432    10.958</td>\n",
       "</tr>\n",
       "<tr>\n",
       "  <th>x1</th>    <td>    2.0321</td> <td>    0.092</td> <td>   22.036</td> <td> 0.000</td> <td>    1.819     2.245</td>\n",
       "</tr>\n",
       "</table>\n",
       "<table class=\"simpletable\">\n",
       "<tr>\n",
       "  <th>Omnibus:</th>       <td> 5.171</td> <th>  Durbin-Watson:     </th> <td>   2.357</td>\n",
       "</tr>\n",
       "<tr>\n",
       "  <th>Prob(Omnibus):</th> <td> 0.075</td> <th>  Jarque-Bera (JB):  </th> <td>   1.985</td>\n",
       "</tr>\n",
       "<tr>\n",
       "  <th>Skew:</th>          <td> 1.062</td> <th>  Prob(JB):          </th> <td>   0.371</td>\n",
       "</tr>\n",
       "<tr>\n",
       "  <th>Kurtosis:</th>      <td> 3.502</td> <th>  Cond. No.          </th> <td>    134.</td>\n",
       "</tr>\n",
       "</table>"
      ],
      "text/plain": [
       "<class 'statsmodels.iolib.summary.Summary'>\n",
       "\"\"\"\n",
       "                            OLS Regression Results                            \n",
       "==============================================================================\n",
       "Dep. Variable:                      y   R-squared:                       0.984\n",
       "Model:                            OLS   Adj. R-squared:                  0.982\n",
       "Method:                 Least Squares   F-statistic:                     485.6\n",
       "Date:                Mon, 12 Nov 2018   Prob (F-statistic):           1.90e-08\n",
       "Time:                        12:53:12   Log-Likelihood:                -34.327\n",
       "No. Observations:                  10   AIC:                             72.65\n",
       "Df Residuals:                       8   BIC:                             73.26\n",
       "Df Model:                           1                                         \n",
       "Covariance Type:            nonrobust                                         \n",
       "==============================================================================\n",
       "                 coef    std err          t      P>|t|      [95.0% Conf. Int.]\n",
       "------------------------------------------------------------------------------\n",
       "const         -2.2369      5.722     -0.391      0.706       -15.432    10.958\n",
       "x1             2.0321      0.092     22.036      0.000         1.819     2.245\n",
       "==============================================================================\n",
       "Omnibus:                        5.171   Durbin-Watson:                   2.357\n",
       "Prob(Omnibus):                  0.075   Jarque-Bera (JB):                1.985\n",
       "Skew:                           1.062   Prob(JB):                        0.371\n",
       "Kurtosis:                       3.502   Cond. No.                         134.\n",
       "==============================================================================\n",
       "\n",
       "Warnings:\n",
       "[1] Standard Errors assume that the covariance matrix of the errors is correctly specified.\n",
       "\"\"\""
      ]
     },
     "execution_count": 87,
     "metadata": {},
     "output_type": "execute_result"
    }
   ],
   "source": [
    "#The Right Way!\n",
    "X = sm.add_constant(x)\n",
    "right_model = sm.OLS(line_est,X).fit()\n",
    "right_model.summary()"
   ]
  },
  {
   "cell_type": "markdown",
   "metadata": {},
   "source": [
    "#### Discussion:\n",
    "\n",
    "#### The first model, the wrong model,  does not add an y-intercept to the OLS estimate. As a result, it estimates a lower coefficient for x than does the second model (because the intercept is the second model is estimated to be negative), at a statistically significance level of 95%. Though both models have very high r-squared values, it is slightly lower for the second model. The second model also has a wider confidence interval for x than does the first model and of course reports an intercept value.\n",
    "\n",
    "#### It is important to fit an intercept for an OLS model because otherwise the model is likely to incorrectly estimate the impact of x on y, whereas an intercept allows the OLS model to account for baseline behavior in y. This is perhaps best exhibited by a variable y that has a clear minimum, for example, if we were measuring the speed that a car was traveling (not the acceleration!) it could not go below 0. At 0 km/h the car is just not moving and cannot go slower than this."
   ]
  },
  {
   "cell_type": "markdown",
   "metadata": {},
   "source": [
    "### 4. plot the data (as points) and both statsmodels fits"
   ]
  },
  {
   "cell_type": "code",
   "execution_count": 101,
   "metadata": {},
   "outputs": [
    {
     "data": {
      "text/plain": [
       "Text(0.5,1,'Fig 2: Predicted vs. Actual Values for OLS without Intercept (Wrong Model)')"
      ]
     },
     "execution_count": 101,
     "metadata": {},
     "output_type": "execute_result"
    },
    {
     "data": {
      "image/png": "[encoded data removed]",
      "text/plain": [
       "<matplotlib.figure.Figure at 0x7f98e1cd3320>"
      ]
     },
     "metadata": {},
     "output_type": "display_data"
    }
   ],
   "source": [
    "fig = plt.figure(figsize=(6,6))\n",
    "ax1 = fig.add_subplot(111)\n",
    "\n",
    "sm.graphics.plot_fit(wrong_model,0,ax=ax1)\n",
    "ax1.plot(x, wrong_model.fittedvalues, '-', label=\"OLS Line of Best Fit\")\n",
    "\n",
    "ax1.set_xlabel(\"Exogenous\") \n",
    "ax1.set_ylabel(\"Endogenous\") \n",
    "ax1.grid() #add grid lines)\n",
    "ax1.set_title(\"Fig 2: Predicted vs. Actual Values for OLS without Intercept (Wrong Model)\")\n"
   ]
  },
  {
   "cell_type": "code",
   "execution_count": 102,
   "metadata": {},
   "outputs": [
    {
     "data": {
      "text/plain": [
       "Text(0.5,1,'Fig 3: Predicted vs. Actual Values for OLS with Intercept (Right Model)')"
      ]
     },
     "execution_count": 102,
     "metadata": {},
     "output_type": "execute_result"
    },
    {
     "data": {
      "image/png": "[encoded data removed]",
      "text/plain": [
       "<matplotlib.figure.Figure at 0x7f98e1c680b8>"
      ]
     },
     "metadata": {},
     "output_type": "display_data"
    }
   ],
   "source": [
    "fig = plt.figure(figsize=(6,6))\n",
    "ax2 = fig.add_subplot(111)\n",
    "\n",
    "sm.graphics.plot_fit(right_model,1,ax=ax2)\n",
    "ax2.plot(x, right_model.fittedvalues, '-', label=\"OLS Line of Best Fit\")\n",
    "\n",
    "ax2.set_xlabel(\"Exogenous\") #x label added\n",
    "ax2.set_ylabel(\"Endogenous\") #add Y label\n",
    "ax2.grid() #add grid\n",
    "ax2.set_title(\"Fig 3: Predicted vs. Actual Values for OLS with Intercept (Right Model)\")\n"
   ]
  },
  {
   "cell_type": "markdown",
   "metadata": {},
   "source": [
    "###  5. create a line with a chosen slope and a chosen intercept >=100*slope and plot it with uncertainties as errorbars"
   ]
  },
  {
   "cell_type": "code",
   "execution_count": 90,
   "metadata": {},
   "outputs": [],
   "source": [
    "x2 = [10,20,30,40,50,60,70,80,90,100]\n",
    "x2 = np.array(x2)\n",
    "\n",
    "y2_error = errors(x2)\n",
    "line2_est = line(3,x2,300,errors=True)"
   ]
  },
  {
   "cell_type": "code",
   "execution_count": 103,
   "metadata": {},
   "outputs": [
    {
     "data": {
      "text/plain": [
       "Text(0.5,1,'Fig 1: Illustration of Graph with Error Bars and a Line of Best Fit')"
      ]
     },
     "execution_count": 103,
     "metadata": {},
     "output_type": "execute_result"
    },
    {
     "data": {
      "image/png": "[encoded data removed]",
      "text/plain": [
       "<matplotlib.figure.Figure at 0x7f98e1be3ba8>"
      ]
     },
     "metadata": {},
     "output_type": "display_data"
    }
   ],
   "source": [
    "fig = plt.figure(figsize=(8,8)) #initialize figure\n",
    "ax1 = fig.add_subplot(111) #initialize first axis\n",
    "\n",
    "ax1.errorbar(x2,line2_est,yerr=y2_error,fmt='.')\n",
    "ax1.plot(x,line2_est)\n",
    "\n",
    "#add stylistic elements:\n",
    "\n",
    "ax1.set_xlabel(\"Exogenous\") #x label added\n",
    "ax1.set_ylabel(\"Endogenous\") #add Y label\n",
    "ax1.grid()\n",
    "\n",
    "plt.title(\"Fig 1: Illustration of Graph with Error Bars and a Line of Best Fit\")\n"
   ]
  },
  {
   "cell_type": "markdown",
   "metadata": {},
   "source": [
    "### 6. repeat step 3"
   ]
  },
  {
   "cell_type": "code",
   "execution_count": 92,
   "metadata": {},
   "outputs": [
    {
     "name": "stderr",
     "output_type": "stream",
     "text": [
      "/usr/local/Anaconda3-5.0.0-Linux-x86_64/envs/PUI2016_Python3/lib/python3.5/site-packages/scipy/stats/stats.py:1535: UserWarning: kurtosistest only valid for n>=20 ... continuing anyway, n=10\n",
      "  \"anyway, n=%i\" % int(n))\n"
     ]
    },
    {
     "data": {
      "text/html": [
       "<table class=\"simpletable\">\n",
       "<caption>OLS Regression Results</caption>\n",
       "<tr>\n",
       "  <th>Dep. Variable:</th>            <td>y</td>        <th>  R-squared:         </th> <td>   0.916</td>\n",
       "</tr>\n",
       "<tr>\n",
       "  <th>Model:</th>                   <td>OLS</td>       <th>  Adj. R-squared:    </th> <td>   0.906</td>\n",
       "</tr>\n",
       "<tr>\n",
       "  <th>Method:</th>             <td>Least Squares</td>  <th>  F-statistic:       </th> <td>   97.63</td>\n",
       "</tr>\n",
       "<tr>\n",
       "  <th>Date:</th>             <td>Mon, 12 Nov 2018</td> <th>  Prob (F-statistic):</th> <td>3.95e-06</td>\n",
       "</tr>\n",
       "<tr>\n",
       "  <th>Time:</th>                 <td>13:00:16</td>     <th>  Log-Likelihood:    </th> <td> -63.431</td>\n",
       "</tr>\n",
       "<tr>\n",
       "  <th>No. Observations:</th>      <td>    10</td>      <th>  AIC:               </th> <td>   128.9</td>\n",
       "</tr>\n",
       "<tr>\n",
       "  <th>Df Residuals:</th>          <td>     9</td>      <th>  BIC:               </th> <td>   129.2</td>\n",
       "</tr>\n",
       "<tr>\n",
       "  <th>Df Model:</th>              <td>     1</td>      <th>                     </th>     <td> </td>   \n",
       "</tr>\n",
       "<tr>\n",
       "  <th>Covariance Type:</th>      <td>nonrobust</td>    <th>                     </th>     <td> </td>   \n",
       "</tr>\n",
       "</table>\n",
       "<table class=\"simpletable\">\n",
       "<tr>\n",
       "   <td></td>     <th>coef</th>     <th>std err</th>      <th>t</th>      <th>P>|t|</th> <th>[95.0% Conf. Int.]</th> \n",
       "</tr>\n",
       "<tr>\n",
       "  <th>x1</th> <td>    7.3026</td> <td>    0.739</td> <td>    9.881</td> <td> 0.000</td> <td>    5.631     8.974</td>\n",
       "</tr>\n",
       "</table>\n",
       "<table class=\"simpletable\">\n",
       "<tr>\n",
       "  <th>Omnibus:</th>       <td> 0.993</td> <th>  Durbin-Watson:     </th> <td>   0.097</td>\n",
       "</tr>\n",
       "<tr>\n",
       "  <th>Prob(Omnibus):</th> <td> 0.609</td> <th>  Jarque-Bera (JB):  </th> <td>   0.628</td>\n",
       "</tr>\n",
       "<tr>\n",
       "  <th>Skew:</th>          <td> 0.016</td> <th>  Prob(JB):          </th> <td>   0.730</td>\n",
       "</tr>\n",
       "<tr>\n",
       "  <th>Kurtosis:</th>      <td> 1.772</td> <th>  Cond. No.          </th> <td>    1.00</td>\n",
       "</tr>\n",
       "</table>"
      ],
      "text/plain": [
       "<class 'statsmodels.iolib.summary.Summary'>\n",
       "\"\"\"\n",
       "                            OLS Regression Results                            \n",
       "==============================================================================\n",
       "Dep. Variable:                      y   R-squared:                       0.916\n",
       "Model:                            OLS   Adj. R-squared:                  0.906\n",
       "Method:                 Least Squares   F-statistic:                     97.63\n",
       "Date:                Mon, 12 Nov 2018   Prob (F-statistic):           3.95e-06\n",
       "Time:                        13:00:16   Log-Likelihood:                -63.431\n",
       "No. Observations:                  10   AIC:                             128.9\n",
       "Df Residuals:                       9   BIC:                             129.2\n",
       "Df Model:                           1                                         \n",
       "Covariance Type:            nonrobust                                         \n",
       "==============================================================================\n",
       "                 coef    std err          t      P>|t|      [95.0% Conf. Int.]\n",
       "------------------------------------------------------------------------------\n",
       "x1             7.3026      0.739      9.881      0.000         5.631     8.974\n",
       "==============================================================================\n",
       "Omnibus:                        0.993   Durbin-Watson:                   0.097\n",
       "Prob(Omnibus):                  0.609   Jarque-Bera (JB):                0.628\n",
       "Skew:                           0.016   Prob(JB):                        0.730\n",
       "Kurtosis:                       1.772   Cond. No.                         1.00\n",
       "==============================================================================\n",
       "\n",
       "Warnings:\n",
       "[1] Standard Errors assume that the covariance matrix of the errors is correctly specified.\n",
       "\"\"\""
      ]
     },
     "execution_count": 92,
     "metadata": {},
     "output_type": "execute_result"
    }
   ],
   "source": [
    "#The Wrong Way:\n",
    "wrong_model2 = sm.OLS(line2_est,x2).fit()\n",
    "wrong_model2.summary()"
   ]
  },
  {
   "cell_type": "code",
   "execution_count": 93,
   "metadata": {},
   "outputs": [
    {
     "name": "stderr",
     "output_type": "stream",
     "text": [
      "/usr/local/Anaconda3-5.0.0-Linux-x86_64/envs/PUI2016_Python3/lib/python3.5/site-packages/scipy/stats/stats.py:1535: UserWarning: kurtosistest only valid for n>=20 ... continuing anyway, n=10\n",
      "  \"anyway, n=%i\" % int(n))\n"
     ]
    },
    {
     "data": {
      "text/html": [
       "<table class=\"simpletable\">\n",
       "<caption>OLS Regression Results</caption>\n",
       "<tr>\n",
       "  <th>Dep. Variable:</th>            <td>y</td>        <th>  R-squared:         </th> <td>   0.992</td>\n",
       "</tr>\n",
       "<tr>\n",
       "  <th>Model:</th>                   <td>OLS</td>       <th>  Adj. R-squared:    </th> <td>   0.991</td>\n",
       "</tr>\n",
       "<tr>\n",
       "  <th>Method:</th>             <td>Least Squares</td>  <th>  F-statistic:       </th> <td>   1046.</td>\n",
       "</tr>\n",
       "<tr>\n",
       "  <th>Date:</th>             <td>Mon, 12 Nov 2018</td> <th>  Prob (F-statistic):</th> <td>9.11e-10</td>\n",
       "</tr>\n",
       "<tr>\n",
       "  <th>Time:</th>                 <td>13:00:40</td>     <th>  Log-Likelihood:    </th> <td> -34.597</td>\n",
       "</tr>\n",
       "<tr>\n",
       "  <th>No. Observations:</th>      <td>    10</td>      <th>  AIC:               </th> <td>   73.19</td>\n",
       "</tr>\n",
       "<tr>\n",
       "  <th>Df Residuals:</th>          <td>     8</td>      <th>  BIC:               </th> <td>   73.80</td>\n",
       "</tr>\n",
       "<tr>\n",
       "  <th>Df Model:</th>              <td>     1</td>      <th>                     </th>     <td> </td>   \n",
       "</tr>\n",
       "<tr>\n",
       "  <th>Covariance Type:</th>      <td>nonrobust</td>    <th>                     </th>     <td> </td>   \n",
       "</tr>\n",
       "</table>\n",
       "<table class=\"simpletable\">\n",
       "<tr>\n",
       "    <td></td>       <th>coef</th>     <th>std err</th>      <th>t</th>      <th>P>|t|</th> <th>[95.0% Conf. Int.]</th> \n",
       "</tr>\n",
       "<tr>\n",
       "  <th>const</th> <td>  296.7306</td> <td>    5.878</td> <td>   50.481</td> <td> 0.000</td> <td>  283.176   310.285</td>\n",
       "</tr>\n",
       "<tr>\n",
       "  <th>x1</th>    <td>    3.0635</td> <td>    0.095</td> <td>   32.339</td> <td> 0.000</td> <td>    2.845     3.282</td>\n",
       "</tr>\n",
       "</table>\n",
       "<table class=\"simpletable\">\n",
       "<tr>\n",
       "  <th>Omnibus:</th>       <td> 2.950</td> <th>  Durbin-Watson:     </th> <td>   3.204</td>\n",
       "</tr>\n",
       "<tr>\n",
       "  <th>Prob(Omnibus):</th> <td> 0.229</td> <th>  Jarque-Bera (JB):  </th> <td>   0.512</td>\n",
       "</tr>\n",
       "<tr>\n",
       "  <th>Skew:</th>          <td>-0.411</td> <th>  Prob(JB):          </th> <td>   0.774</td>\n",
       "</tr>\n",
       "<tr>\n",
       "  <th>Kurtosis:</th>      <td> 3.743</td> <th>  Cond. No.          </th> <td>    134.</td>\n",
       "</tr>\n",
       "</table>"
      ],
      "text/plain": [
       "<class 'statsmodels.iolib.summary.Summary'>\n",
       "\"\"\"\n",
       "                            OLS Regression Results                            \n",
       "==============================================================================\n",
       "Dep. Variable:                      y   R-squared:                       0.992\n",
       "Model:                            OLS   Adj. R-squared:                  0.991\n",
       "Method:                 Least Squares   F-statistic:                     1046.\n",
       "Date:                Mon, 12 Nov 2018   Prob (F-statistic):           9.11e-10\n",
       "Time:                        13:00:40   Log-Likelihood:                -34.597\n",
       "No. Observations:                  10   AIC:                             73.19\n",
       "Df Residuals:                       8   BIC:                             73.80\n",
       "Df Model:                           1                                         \n",
       "Covariance Type:            nonrobust                                         \n",
       "==============================================================================\n",
       "                 coef    std err          t      P>|t|      [95.0% Conf. Int.]\n",
       "------------------------------------------------------------------------------\n",
       "const        296.7306      5.878     50.481      0.000       283.176   310.285\n",
       "x1             3.0635      0.095     32.339      0.000         2.845     3.282\n",
       "==============================================================================\n",
       "Omnibus:                        2.950   Durbin-Watson:                   3.204\n",
       "Prob(Omnibus):                  0.229   Jarque-Bera (JB):                0.512\n",
       "Skew:                          -0.411   Prob(JB):                        0.774\n",
       "Kurtosis:                       3.743   Cond. No.                         134.\n",
       "==============================================================================\n",
       "\n",
       "Warnings:\n",
       "[1] Standard Errors assume that the covariance matrix of the errors is correctly specified.\n",
       "\"\"\""
      ]
     },
     "execution_count": 93,
     "metadata": {},
     "output_type": "execute_result"
    }
   ],
   "source": [
    "#The Right Way!\n",
    "X2 = sm.add_constant(x2)\n",
    "right_model = sm.OLS(line2_est,X2).fit()\n",
    "right_model.summary()"
   ]
  },
  {
   "cell_type": "markdown",
   "metadata": {},
   "source": [
    "### Discussion:\n",
    "\n",
    "#### The comparison of these two models, given the larger intercept built into the underlying data, shows even more starkly the importance of including an intercept term in your OLS estimates. The coefficient on X in the model without an intercept is approx. 7, while only 3 in the model where an intercept term is included. This is for the same reasons discussed above, when an intercept term is included it captures a lot of the baseline behavior of y and so the model does not overestimate the impact of x on y (thus a smaller coefficient). \n",
    "\n",
    "#### Now we can also see, with a larger intercept, that the second model better fits the data - The r-square is improved over the first model (which is trying to capture all of y in x)."
   ]
  },
  {
   "cell_type": "markdown",
   "metadata": {},
   "source": [
    "###  7. now fit the data with WLS weighted least square, a linear fit that takes into account the uncertainties by \"down-weighting\" (considering less important) observations with large uncertainties"
   ]
  },
  {
   "cell_type": "code",
   "execution_count": 97,
   "metadata": {},
   "outputs": [
    {
     "name": "stderr",
     "output_type": "stream",
     "text": [
      "/usr/local/Anaconda3-5.0.0-Linux-x86_64/envs/PUI2016_Python3/lib/python3.5/site-packages/scipy/stats/stats.py:1535: UserWarning: kurtosistest only valid for n>=20 ... continuing anyway, n=10\n",
      "  \"anyway, n=%i\" % int(n))\n"
     ]
    },
    {
     "data": {
      "text/html": [
       "<table class=\"simpletable\">\n",
       "<caption>WLS Regression Results</caption>\n",
       "<tr>\n",
       "  <th>Dep. Variable:</th>            <td>y</td>        <th>  R-squared:         </th> <td>   0.994</td>\n",
       "</tr>\n",
       "<tr>\n",
       "  <th>Model:</th>                   <td>WLS</td>       <th>  Adj. R-squared:    </th> <td>   0.993</td>\n",
       "</tr>\n",
       "<tr>\n",
       "  <th>Method:</th>             <td>Least Squares</td>  <th>  F-statistic:       </th> <td>   1237.</td>\n",
       "</tr>\n",
       "<tr>\n",
       "  <th>Date:</th>             <td>Mon, 12 Nov 2018</td> <th>  Prob (F-statistic):</th> <td>4.67e-10</td>\n",
       "</tr>\n",
       "<tr>\n",
       "  <th>Time:</th>                 <td>13:13:02</td>     <th>  Log-Likelihood:    </th> <td> -34.125</td>\n",
       "</tr>\n",
       "<tr>\n",
       "  <th>No. Observations:</th>      <td>    10</td>      <th>  AIC:               </th> <td>   72.25</td>\n",
       "</tr>\n",
       "<tr>\n",
       "  <th>Df Residuals:</th>          <td>     8</td>      <th>  BIC:               </th> <td>   72.85</td>\n",
       "</tr>\n",
       "<tr>\n",
       "  <th>Df Model:</th>              <td>     1</td>      <th>                     </th>     <td> </td>   \n",
       "</tr>\n",
       "<tr>\n",
       "  <th>Covariance Type:</th>      <td>nonrobust</td>    <th>                     </th>     <td> </td>   \n",
       "</tr>\n",
       "</table>\n",
       "<table class=\"simpletable\">\n",
       "<tr>\n",
       "    <td></td>       <th>coef</th>     <th>std err</th>      <th>t</th>      <th>P>|t|</th> <th>[95.0% Conf. Int.]</th> \n",
       "</tr>\n",
       "<tr>\n",
       "  <th>const</th> <td>  297.6238</td> <td>    4.621</td> <td>   64.409</td> <td> 0.000</td> <td>  286.968   308.280</td>\n",
       "</tr>\n",
       "<tr>\n",
       "  <th>x1</th>    <td>    3.0488</td> <td>    0.087</td> <td>   35.170</td> <td> 0.000</td> <td>    2.849     3.249</td>\n",
       "</tr>\n",
       "</table>\n",
       "<table class=\"simpletable\">\n",
       "<tr>\n",
       "  <th>Omnibus:</th>       <td> 1.237</td> <th>  Durbin-Watson:     </th> <td>   3.168</td>\n",
       "</tr>\n",
       "<tr>\n",
       "  <th>Prob(Omnibus):</th> <td> 0.539</td> <th>  Jarque-Bera (JB):  </th> <td>   0.132</td>\n",
       "</tr>\n",
       "<tr>\n",
       "  <th>Skew:</th>          <td>-0.275</td> <th>  Prob(JB):          </th> <td>   0.936</td>\n",
       "</tr>\n",
       "<tr>\n",
       "  <th>Kurtosis:</th>      <td> 3.124</td> <th>  Cond. No.          </th> <td>    98.1</td>\n",
       "</tr>\n",
       "</table>"
      ],
      "text/plain": [
       "<class 'statsmodels.iolib.summary.Summary'>\n",
       "\"\"\"\n",
       "                            WLS Regression Results                            \n",
       "==============================================================================\n",
       "Dep. Variable:                      y   R-squared:                       0.994\n",
       "Model:                            WLS   Adj. R-squared:                  0.993\n",
       "Method:                 Least Squares   F-statistic:                     1237.\n",
       "Date:                Mon, 12 Nov 2018   Prob (F-statistic):           4.67e-10\n",
       "Time:                        13:13:02   Log-Likelihood:                -34.125\n",
       "No. Observations:                  10   AIC:                             72.25\n",
       "Df Residuals:                       8   BIC:                             72.85\n",
       "Df Model:                           1                                         \n",
       "Covariance Type:            nonrobust                                         \n",
       "==============================================================================\n",
       "                 coef    std err          t      P>|t|      [95.0% Conf. Int.]\n",
       "------------------------------------------------------------------------------\n",
       "const        297.6238      4.621     64.409      0.000       286.968   308.280\n",
       "x1             3.0488      0.087     35.170      0.000         2.849     3.249\n",
       "==============================================================================\n",
       "Omnibus:                        1.237   Durbin-Watson:                   3.168\n",
       "Prob(Omnibus):                  0.539   Jarque-Bera (JB):                0.132\n",
       "Skew:                          -0.275   Prob(JB):                        0.936\n",
       "Kurtosis:                       3.124   Cond. No.                         98.1\n",
       "==============================================================================\n",
       "\n",
       "Warnings:\n",
       "[1] Standard Errors assume that the covariance matrix of the errors is correctly specified.\n",
       "\"\"\""
      ]
     },
     "execution_count": 97,
     "metadata": {},
     "output_type": "execute_result"
    }
   ],
   "source": [
    "#use X2 and line2_est from above which already has a constant built into it\n",
    "\n",
    "weights = 1 / y2_error #using the variance/error at each observation to reduce the impact of outlier/high error observations\n",
    "WLS_model = sm.WLS(line2_est,X2,weights=weights).fit()\n",
    "WLS_model.summary()"
   ]
  },
  {
   "cell_type": "markdown",
   "metadata": {},
   "source": [
    "### The WLS model reduced our standard error on x and reduced the range of the confidence interval at the 95% significance level. Since we are weighting observations inversely to their deviation from the mean/expected value these results make sense."
   ]
  }
 ],
 "metadata": {
  "kernelspec": {
   "display_name": "PUI2016_Python3",
   "language": "python",
   "name": "pui2016_python3"
  },
  "language_info": {
   "codemirror_mode": {
    "name": "ipython",
    "version": 3
   },
   "file_extension": ".py",
   "mimetype": "text/x-python",
   "name": "python",
   "nbconvert_exporter": "python",
   "pygments_lexer": "ipython3",
   "version": "3.5.4"
  }
 },
 "nbformat": 4,
 "nbformat_minor": 2
}
